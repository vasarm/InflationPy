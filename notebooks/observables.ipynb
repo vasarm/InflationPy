{
 "cells": [
  {
   "cell_type": "code",
   "execution_count": 1,
   "metadata": {},
   "outputs": [],
   "source": [
    "# For symbolic calculations\n",
    "import sympy as sp\n",
    "# For numeric calculations\n",
    "import numpy as np\n",
    "\n",
    "# For plotting\n",
    "import matplotlib.pyplot as plt\n",
    "\n",
    "from inflationpy import SlowRollModel, SlowRollEndSolver, SlowRollStartSolver"
   ]
  },
  {
   "cell_type": "markdown",
   "metadata": {},
   "source": [
    "# Notebook for calculating observables"
   ]
  },
  {
   "cell_type": "markdown",
   "metadata": {},
   "source": [
    "Non-minimally coupled scalar field action:\n",
    "\n",
    "\\begin{equation}\n",
    "    S = \\int d^4x \\sqrt{-g} \\left\\{ \\frac{M_p^2}{2} A(\\phi)R  -\\frac{1}{2}B(\\phi)g^{\\mu \\nu} \\nabla_{\\mu} \\phi \\nabla_{\\nu} \\phi -  V(\\phi)  \\right \\}\n",
    "\\end{equation} "
   ]
  },
  {
   "cell_type": "markdown",
   "metadata": {},
   "source": [
    "## 1) Define model functions\n",
    "\n",
    "To start calculating, required symbols must be defined. By default SlowRollModel assumes that 'phi' is used as scalar field ('I_phi' for invariant field) symbol and 'M_p' as Planck's mass. If other symbols are used then this information must be given to the SlowRollModel class.\n",
    "\n",
    "To define symbols and equations it is advised to use sympy although it can try to convert strings to equations as well this method is not too reliable. To look more how to define functions with sympy: https://docs.sympy.org/latest/modules/functions/index.html#contents"
   ]
  },
  {
   "cell_type": "code",
   "execution_count": 2,
   "metadata": {},
   "outputs": [],
   "source": [
    "# Define symbols. phi for scalar field and I_phi for invariant scalar field.\n",
    "phi, I_phi = sp.symbols('phi I_phi', real=True)\n",
    "# Define model specific free parameters and Planck's mass\n",
    "alpha, M_p = sp.symbols('alpha M_p', real=True, positive=True)\n",
    "# Also program uses some default symbols: 'N' for e-folds\n",
    "N = sp.symbols('N', real=True, positive=True)"
   ]
  },
  {
   "cell_type": "code",
   "execution_count": 3,
   "metadata": {},
   "outputs": [],
   "source": [
    "# Define functions. \n",
    "A = 1\n",
    "B = 6*alpha/(phi/M_p-1)**2\n",
    "V = (phi/M_p - 2)**2 * (phi/M_p)**2/((phi/M_p)**2 - 2*phi/M_p + 2)**2\n",
    "I_V = sp.tanh(I_phi/(sp.sqrt(6*alpha)*M_p))**2"
   ]
  },
  {
   "cell_type": "markdown",
   "metadata": {},
   "source": [
    "Put all functions into SlowRollModel class which then sets up all required combinations for later calculations. It is possible to define only some of the functions. Although to calculate observables (A, B, V) or invariant potential must be defined. \n",
    "\n",
    "When only invariant potential is defined then it is possible to use it two ways:\n",
    "Set: A=1, B=1 and V=invariant potential or set I_V = invariant potential.\n",
    "\n",
    "\\begin{equation}\n",
    "S = \\int d^4x \\sqrt{-g} \\left\\{ \\frac{M_p^2}{2} R  -\\frac{1}{2}g^{\\mu \\nu} \\nabla_{\\mu} I_\\phi \\nabla_{\\nu} I_\\phi -  I_V(I_\\phi)  \\right \\} \n",
    "\\end{equation}\n",
    "\n",
    "Invariant functions are defined as:\n",
    "\n",
    "\\begin{equation}\n",
    "    I_V = \\frac{V}{A^2}\n",
    "\\end{equation}\n",
    "\\begin{equation}\n",
    "    I_\\phi = \\int \\sqrt{\\frac{B}{A} + \\delta_\\Gamma \\frac{3}{2} M_p^2 \\left(\\frac{A'}{A}\\right)^2} d\\phi\n",
    "\\end{equation}\n",
    "\n",
    "where $\\delta_\\Gamma = 1$ for metric formalism and $0$ for Palatini.\n",
    "\n",
    "SlowRollModel will calculate following equations:\n",
    "1) Slow-roll parameters $\\epsilon$ and $\\eta$.\n",
    "2) For scalar field $F(\\phi) = \\frac{B}{A} + \\delta_\\Gamma \\frac{3}{2} M_p^2 \\left(\\frac{A'}{A}\\right)^2$\n",
    "3) Also N-fold integrand $\\frac{AVF}{AV'-2VA'} = \\frac{I_V'}{I_V}$\n",
    "4) Observable functions from $\\epsilon$ and $\\eta$."
   ]
  },
  {
   "cell_type": "code",
   "execution_count": 4,
   "metadata": {},
   "outputs": [
    {
     "data": {
      "text/latex": [
       "$A= 1 \\\\ B= \\frac{6 \\alpha}{\\left(-1 + \\frac{\\phi}{M_{p}}\\right)^{2}} \\\\ V= \\frac{\\phi^{2} \\left(-2 + \\frac{\\phi}{M_{p}}\\right)^{2}}{M_{p}^{2} \\left(2 - \\frac{2 \\phi}{M_{p}} + \\frac{\\phi^{2}}{M_{p}^{2}}\\right)^{2}} \\\\ I_V= \\tanh^{2}{\\left(\\frac{\\sqrt{6} I_{\\phi}}{6 M_{p} \\sqrt{\\alpha}} \\right)}$"
      ],
      "text/plain": [
       "A= 1\n",
       "B= 6*alpha/(-1 + phi/M_p)**2\n",
       "V= phi**2*(-2 + phi/M_p)**2/(M_p**2*(2 - 2*phi/M_p + phi**2/M_p**2)**2)\n",
       "I_V= tanh(sqrt(6)*I_phi/(6*M_p*sqrt(alpha)))**2"
      ]
     },
     "execution_count": 4,
     "metadata": {},
     "output_type": "execute_result"
    }
   ],
   "source": [
    "# A, B, V and I_V and functions which are possible to define\n",
    "# palatini (True/False) - to use Palatini formalism or not\n",
    "# symbol is set to phi (this is actually not required if phi=sp.Symbol('phi', real=True))\n",
    "# Planck's mass symbol/value is set to M_p (this is actually not required if mp=sp.Symbol('M_p', real=True, positive=True))\n",
    "model = SlowRollModel(A=A, B=B, V=V, I_V=I_V, palatini=False, symbol=phi, symbolI=I_phi, mp=M_p)\n",
    "# Try to simplify all functions (also which are calculated in model). This might make later calculations easier/faster.\n",
    "model.simplify()\n",
    "model.simplify(invariant=True)\n",
    "model"
   ]
  },
  {
   "cell_type": "markdown",
   "metadata": {},
   "source": [
    "## 2) Calculate scalar field values at the end of inflation\n",
    "\n",
    "#### This is defined by condtion:\n",
    "\\begin{equation}\n",
    "\\epsilon = 1\n",
    "\\end{equation}\n",
    "\n",
    "In this paragraph is showed how to calculate field values for scalar field and invariant scalar field. Simply this requires to say solver if to use invariant potential or not."
   ]
  },
  {
   "cell_type": "code",
   "execution_count": 5,
   "metadata": {},
   "outputs": [],
   "source": [
    "# Use functions A, B and V to calculate inflation end value\n",
    "end_solver = SlowRollEndSolver(model, invariant=False)"
   ]
  },
  {
   "cell_type": "code",
   "execution_count": 6,
   "metadata": {},
   "outputs": [
    {
     "data": {
      "text/latex": [
       "$\\displaystyle \\frac{2^{\\frac{3}{4}} \\left(- 3^{\\frac{3}{4}} \\sqrt[4]{14 - 4 \\sqrt{10}} + 3 \\sqrt[4]{2}\\right)}{6}$"
      ],
      "text/plain": [
       "2**(3/4)*(-3**(3/4)*(14 - 4*sqrt(10))**(1/4) + 3*2**(1/4))/6"
      ]
     },
     "metadata": {},
     "output_type": "display_data"
    },
    {
     "name": "stdout",
     "output_type": "stream",
     "text": [
      "0.311161943699334\n"
     ]
    }
   ],
   "source": [
    "# Currently sympy finds multiple solutions for end value. Calculate for alpha=2 and M_p=1\n",
    "analytical_end = end_solver.solve()\n",
    "display(analytical_end[2].subs({alpha:2, M_p:1}))\n",
    "print(sp.N(analytical_end[2].subs({alpha:2, M_p:1})))"
   ]
  },
  {
   "cell_type": "code",
   "execution_count": 7,
   "metadata": {},
   "outputs": [
    {
     "data": {
      "text/plain": [
       "[<matplotlib.lines.Line2D at 0x255d2b13b20>]"
      ]
     },
     "execution_count": 7,
     "metadata": {},
     "output_type": "execute_result"
    },
    {
     "data": {
      "image/png": "[encoded data removed]",
      "text/plain": [
       "<Figure size 432x288 with 1 Axes>"
      ]
     },
     "metadata": {
      "needs_background": "light"
     },
     "output_type": "display_data"
    }
   ],
   "source": [
    "# To look beforehand where the roots might be let's calculate some function values\n",
    "x = np.linspace(0.3, 1.7, 1000)\n",
    "epsilon_values = model.epsilon.f_n(x, M_p=1, alpha=2) - 1 # We have parameters M_p and alpha as free parameters. Assign some values\n",
    "plt.plot(x, epsilon_values)\n",
    "# We can see that there are two roots between [0, 2]. Let's calculate for range [0, 1]."
   ]
  },
  {
   "cell_type": "code",
   "execution_count": 8,
   "metadata": {},
   "outputs": [
    {
     "name": "stdout",
     "output_type": "stream",
     "text": [
      "End value for alpha=2, M_p=1 in range [0, 1]:  0.3111619436993338\n"
     ]
    }
   ],
   "source": [
    "# Results are in list, so take first value as this is what we wanted\n",
    "# nsolve_np uses scipy method to find roots. It is also possible to use mpmath package with nsolve_mp\n",
    "numerical_end = end_solver.nsolve_np([0, 1], params={M_p:1, alpha:2})[0]\n",
    "print(\"End value for alpha=2, M_p=1 in range [0, 1]: \", numerical_end)\n",
    "# Numerical value is same as analytical"
   ]
  },
  {
   "cell_type": "markdown",
   "metadata": {},
   "source": [
    "## 3) Calculate scalar field values at the beginning of inflation\n",
    "\n",
    "#### Solve differential equation $\\frac{d\\phi}{dN} = \\frac{AV' - 2VA'}{AVF}$ with initial condition ($\\phi_{0} = \\phi_{\\text{end}}; \\  N=0$)"
   ]
  },
  {
   "cell_type": "code",
   "execution_count": 9,
   "metadata": {},
   "outputs": [],
   "source": [
    "# Use A, B and V functions to for calculations\n",
    "initial_solver = SlowRollStartSolver(model, invariant=False)\n",
    "# Calculate function phi_0(N) from N=0 to N=N_max. By default N_max = 100\n",
    "initial_value_function = initial_solver.nsolve_np(end_value=numerical_end, N_max=100, params={\"M_p\":1, 'alpha':2})\n",
    "# To calculate initial scalar field value at the N just insert required N value into the function\n",
    "# initial_value_function(N) -> returns initial scalar field value at N. \n",
    "# To use mpmath for solver use nsolve_mp"
   ]
  },
  {
   "cell_type": "code",
   "execution_count": 10,
   "metadata": {},
   "outputs": [
    {
     "name": "stdout",
     "output_type": "stream",
     "text": [
      "Scalar field initial value with N=50: [0.87968121]\n",
      "Scalar field initial value with N=60: [0.88978241]\n"
     ]
    }
   ],
   "source": [
    "print(f'Scalar field initial value with N=50: {initial_value_function(50)}')\n",
    "print(f'Scalar field initial value with N=60: {initial_value_function(60)}')"
   ]
  },
  {
   "cell_type": "markdown",
   "metadata": {},
   "source": [
    "## 4) Calculate values for observables at N=50 and N=60\n",
    "\n",
    "This requires scalar field values at the start of inflation. Functions are already defined in model."
   ]
  },
  {
   "cell_type": "code",
   "execution_count": 11,
   "metadata": {},
   "outputs": [
    {
     "name": "stdout",
     "output_type": "stream",
     "text": [
      "n_s (N=50) = [0.960253236166713]\n",
      "n_s (N=50) = 0.960253236166713\n",
      "n_s (N=60) = [0.96680393]\n"
     ]
    }
   ],
   "source": [
    "# Uses sympy to calculate ns and returns sp.Expr type value. To find numerical value for that use sp.N\n",
    "n_s50 = model.calculate_ns(initial_value_function(50), params={M_p:1, alpha:2})\n",
    "print('n_s (N=50) =', n_s50)\n",
    "print('n_s (N=50) =', sp.N(n_s50[0]))\n",
    "# Uses numpy to calculate ns. To use mpmath use calculate_ns_mp\n",
    "n_s60 = model.calculate_ns_np(initial_value_function(60), params={M_p:1, alpha:2})\n",
    "print('n_s (N=60) =', n_s60)"
   ]
  },
  {
   "cell_type": "code",
   "execution_count": 12,
   "metadata": {},
   "outputs": [
    {
     "name": "stdout",
     "output_type": "stream",
     "text": [
      "r (N=50) = [0.00894549943140786]\n",
      "r (N=50) = 0.00894549943140786\n",
      "r (N=60) = [0.00629826]\n"
     ]
    }
   ],
   "source": [
    "# Uses sympy to calculate ns and returns sp.Expr type value. To find numerical value for that use sp.N\n",
    "r50 = model.calculate_r(initial_value_function(50), params={M_p:1, alpha:2})\n",
    "print('r (N=50) =', r50)\n",
    "print('r (N=50) =', sp.N(r50[0]))\n",
    "# Uses numpy to calculate ns\n",
    "r60 = model.calculate_r_np(initial_value_function(60), params={M_p:1, alpha:2})\n",
    "print('r (N=60) =', r60)"
   ]
  },
  {
   "cell_type": "code",
   "execution_count": 13,
   "metadata": {},
   "outputs": [
    {
     "name": "stdout",
     "output_type": "stream",
     "text": [
      "A_s = [10.21608199]\n",
      "Normalization for potential: 0.00378596860502031\n"
     ]
    }
   ],
   "source": [
    "# Calculate current model's amplitude of the scalar power spectrum A_s\n",
    "A_s_scalar = model.A_s.f_n(initial_value_function(60), M_p=1, alpha=2)\n",
    "print(\"A_s =\", A_s_scalar)\n",
    "# We nood to normalize potential to get correct value\n",
    "normalize = sp.N(model.normalize_potential(scalar_value=initial_value_function(60)[0], params={M_p:1, alpha:2}))\n",
    "print(\"Normalization for potential:\", normalize)"
   ]
  },
  {
   "cell_type": "markdown",
   "metadata": {},
   "source": [
    "## 4) Calculate observable values for invariant field\n",
    "\n",
    "This time we try to calculate values for multiple alpha values. As analytical solution is not available we have to do it numerically. To make calculations faster without selecting values we assume that if multiple roots exist we select the closest to minimum."
   ]
  },
  {
   "cell_type": "code",
   "execution_count": 14,
   "metadata": {},
   "outputs": [],
   "source": [
    "end_solver2 = SlowRollEndSolver(model, invariant=True)\n",
    "alpha_values = [1, 2, 4, 8, 16, 32, 64, 128, 256]\n",
    "\n",
    "invariant_end_values = []\n",
    "for alpha_value in alpha_values:\n",
    "    # Select first root value (results are ordered from lowest to highest)\n",
    "    calculated_end_value = end_solver2.nsolve_np([0, 5], params={alpha:alpha_value, M_p:1})[-1]\n",
    "    invariant_end_values.append(calculated_end_value)"
   ]
  },
  {
   "cell_type": "code",
   "execution_count": 15,
   "metadata": {},
   "outputs": [],
   "source": [
    "initial_solver2 = SlowRollStartSolver(model, invariant=True)\n",
    "invariant_initial_functions = []\n",
    "for alpha_value, end_value in zip(alpha_values, invariant_end_values):\n",
    "    # Find numerical functions phi(N)\n",
    "    function = initial_solver2.nsolve_np(end_value, params={alpha:alpha_value, M_p:1})\n",
    "    invariant_initial_functions.append(function)"
   ]
  },
  {
   "cell_type": "markdown",
   "metadata": {},
   "source": [
    "####  Finally we have all required to make plots"
   ]
  },
  {
   "cell_type": "code",
   "execution_count": 16,
   "metadata": {},
   "outputs": [],
   "source": [
    "# Load latest observable results (published 2018 and 2021)\n",
    "from inflationpy.data.data import load_planck_data\n",
    "sigma1_ns, sigma1_r, sigma2_ns, sigma2_r = load_planck_data()"
   ]
  },
  {
   "cell_type": "code",
   "execution_count": 17,
   "metadata": {},
   "outputs": [
    {
     "data": {
      "text/latex": [
       "$\\displaystyle 0.960293750739217$"
      ],
      "text/plain": [
       "0.960293750739217"
      ]
     },
     "execution_count": 17,
     "metadata": {},
     "output_type": "execute_result"
    }
   ],
   "source": [
    "sp.N(model.calculate_ns(invariant_initial_functions[1](50), params={alpha:2, M_p:1}, invariant=True)[0])"
   ]
  },
  {
   "cell_type": "code",
   "execution_count": 18,
   "metadata": {},
   "outputs": [
    {
     "data": {
      "image/png": "[encoded data removed]",
      "text/plain": [
       "<Figure size 1080x504 with 1 Axes>"
      ]
     },
     "metadata": {
      "needs_background": "light"
     },
     "output_type": "display_data"
    }
   ],
   "source": [
    "# Create matplotlib object\n",
    "fig, ax = plt.subplots(figsize=(15, 7))\n",
    "fontsize = 15\n",
    "\n",
    "ax.set_ylim(0, 0.09)\n",
    "ax.set_xlim(0.95, 0.985)\n",
    "ax.set_xlabel(\"$n_s$\", fontsize=fontsize)\n",
    "ax.set_ylabel(\"$r$\", fontsize=fontsize, rotation=0)\n",
    "\n",
    "ax.fill_between(sigma2_ns, sigma2_r, label='$2\\\\sigma$', color='lightgrey', alpha=0.3)\n",
    "ax.fill_between(sigma1_ns, sigma1_r, label='$1\\\\sigma$', color='grey', alpha=0.2)\n",
    "\n",
    "color_iterator = plt.cm.rainbow(np.linspace(0, 1, len(alpha_values)))\n",
    "# Plot n_s and r points\n",
    "for initial_function, alpha_value, color in zip(invariant_initial_functions, alpha_values, color_iterator):\n",
    "    ax.scatter(\n",
    "        model.calculate_ns_np(initial_function([50]), params={alpha:alpha_value, M_p:1}, invariant=True),\n",
    "        model.calculate_r_np(initial_function([50]), params={alpha:alpha_value, M_p:1}, invariant=True),\n",
    "        color=color, marker='o')\n",
    "    ax.scatter(\n",
    "        model.calculate_ns_np(initial_function([60]), params={alpha:alpha_value, M_p:1}, invariant=True),\n",
    "        model.calculate_r_np(initial_function([60]), params={alpha:alpha_value, M_p:1}, invariant=True),\n",
    "        color=color, marker='X')\n",
    "\n",
    "custom_legend = []\n",
    "for alpha_value, c in zip(alpha_values, color_iterator):\n",
    "    custom_legend.append(plt.Line2D([0], [0], color=c, linestyle='-', label=f'$\\\\alpha={alpha_value}$'))\n",
    "custom_legend.append(plt.Line2D([0], [0], marker='o', color='white', markerfacecolor='black', label='N=50'))\n",
    "custom_legend.append(plt.Line2D([0], [0], marker='X', color='white', markerfacecolor='black', label='N=60'))\n",
    "old_handles, old_labels = ax.get_legend_handles_labels()\n",
    "custom_legend = custom_legend + old_handles\n",
    "ax.legend(handles=custom_legend, fontsize=fontsize)\n",
    "\n",
    "plt.show()"
   ]
  },
  {
   "cell_type": "code",
   "execution_count": null,
   "metadata": {},
   "outputs": [],
   "source": []
  }
 ],
 "metadata": {
  "interpreter": {
   "hash": "726da861d6979e270a7c3bba3df6b48d2f051a2431207b1427b050afc1f83a8f"
  },
  "kernelspec": {
   "display_name": "Python 3.9.7 ('inflationpy')",
   "language": "python",
   "name": "python3"
  },
  "language_info": {
   "codemirror_mode": {
    "name": "ipython",
    "version": 3
   },
   "file_extension": ".py",
   "mimetype": "text/x-python",
   "name": "python",
   "nbconvert_exporter": "python",
   "pygments_lexer": "ipython3",
   "version": "3.9.7"
  },
  "orig_nbformat": 4
 },
 "nbformat": 4,
 "nbformat_minor": 2
}
