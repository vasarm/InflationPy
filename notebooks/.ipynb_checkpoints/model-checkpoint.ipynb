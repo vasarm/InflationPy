{
 "cells": [
  {
   "cell_type": "code",
   "execution_count": 1,
   "metadata": {},
   "outputs": [],
   "source": [
    "# Import sympy for symbolic calculations\n",
    "\n",
    "import sympy as sp\n",
    "\n",
    "import mpmath as mp\n",
    "\n",
    "# Import InflationPy package\n",
    "\n",
    "from inflationpy.core.model import InflationModel\n",
    "\n",
    "from inflationpy.core.functions import InflationFunction\n",
    "\n",
    "from inflationpy.solvers.inflation_solvers import InflationEndSolver, InflationStartSolver"
   ]
  },
  {
   "cell_type": "markdown",
   "metadata": {},
   "source": [
    "# Model\n",
    "\n",
    "Let's define minimally connected scalar field theory with power-law potential."
   ]
  },
  {
   "cell_type": "code",
   "execution_count": 21,
   "metadata": {},
   "outputs": [],
   "source": [
    "# It is advised to define used symbols with sympy to prevent errors and for easier later use.\n",
    "phi, p = sp.symbols(\"phi p\", real=True)\n",
    "I_phi = sp.Symbol(\"I_phi\", real=True)\n",
    "# N-fold symbol for later use\n",
    "N = sp.Symbol(\"N\", real=True)\n",
    "\n",
    "A = InflationFunction(\"1\")\n",
    "B = InflationFunction(\"1\")\n",
    "V = InflationFunction(phi**p)\n",
    "I_V = InflationFunction(I_phi**p, symbol=I_phi)\n",
    "model = InflationModel(A=A, B=B, V=V, I_V=I_V)\n"
   ]
  },
  {
   "cell_type": "markdown",
   "metadata": {},
   "source": [
    "We can see that A, B and V functions are defined. Invariant potential isn't. Other way to define minimally connected theory is to only define invariant potential. It is also possible to define all 4 functions at the same time as well."
   ]
  },
  {
   "cell_type": "code",
   "execution_count": 4,
   "metadata": {},
   "outputs": [
    {
     "data": {
      "text/latex": [
       "$A: 1 \\\\ B: 1 \\\\ V: \\phi^{p} \\\\ I_V: -$"
      ],
      "text/plain": [
       "A: 1\n",
       "B: 1\n",
       "V: phi**p\n",
       "I_V: None"
      ]
     },
     "execution_count": 4,
     "metadata": {},
     "output_type": "execute_result"
    }
   ],
   "source": [
    "model"
   ]
  },
  {
   "cell_type": "markdown",
   "metadata": {},
   "source": [
    "# Replace parameters in model\n",
    "\n",
    "Right away we can already caclulate scalar field value(s) in the end of inflation. It is possible to use analytical or numerical calculations. Each has it's own value: symbolic calculations might be hard and impossible to do by sympy but if it can then the results are more general. Numerical calculations require to define all parameters.\n",
    "\n",
    "By default InflationModel uses following symbols: Scalar field - $\\phi$; Planck's mass - $M_p$; N-fold - $N$; Invariant potential $I_V$; Invariant scalar field $I_\\phi$ (for some calculations). These symbols should be avoided when defining functions.\n",
    "\n",
    "Only scalar field and Planck's mass symbol can be changed. It is easy to do that.\n",
    "\n"
   ]
  },
  {
   "cell_type": "code",
   "execution_count": 5,
   "metadata": {},
   "outputs": [
    {
     "name": "stdout",
     "output_type": "stream",
     "text": [
      "Current model's Planck's mass value: M_p\n"
     ]
    },
    {
     "data": {
      "text/latex": [
       "$\\displaystyle M_{p}$"
      ],
      "text/plain": [
       "M_p"
      ]
     },
     "execution_count": 5,
     "metadata": {},
     "output_type": "execute_result"
    }
   ],
   "source": [
    "print(f\"Current model's Planck's mass value: {model.mp}\")\n",
    "model.mp"
   ]
  },
  {
   "cell_type": "markdown",
   "metadata": {},
   "source": [
    "We can replace all parameters simply. For that we need to define Python dictionary which consists of \"symbol : value\" pairs. Symbol can be string (if greek or latin alphabet is used) or sp.Symbol type. Scalar field can't be just a number. To calculate function's value at some scalar field position other methods must be used.\n",
    "\n",
    "Now we can change Planck's mass symbol and free variable $p$ equal to 2. We can see right away that $p=2$. Now M_p has been set equal to 1."
   ]
  },
  {
   "cell_type": "code",
   "execution_count": 6,
   "metadata": {},
   "outputs": [
    {
     "data": {
      "text/latex": [
       "$A: 1 \\\\ B: 1 \\\\ V: \\phi^{2} \\\\ I_V: -$"
      ],
      "text/plain": [
       "A: 1\n",
       "B: 1\n",
       "V: phi**2\n",
       "I_V: None"
      ]
     },
     "execution_count": 6,
     "metadata": {},
     "output_type": "execute_result"
    }
   ],
   "source": [
    "model_replaced = model({p: 2, \"M_p\": \"1\"})\n",
    "model_replaced\n"
   ]
  },
  {
   "cell_type": "code",
   "execution_count": 7,
   "metadata": {},
   "outputs": [
    {
     "name": "stdout",
     "output_type": "stream",
     "text": [
      "Current model's Planck's mass value: 1\n"
     ]
    },
    {
     "data": {
      "text/latex": [
       "$\\displaystyle 1$"
      ],
      "text/plain": [
       "1"
      ]
     },
     "execution_count": 7,
     "metadata": {},
     "output_type": "execute_result"
    }
   ],
   "source": [
    "print(f\"Current model's Planck's mass value: {model_replaced.mp}\")\n",
    "model_replaced.mp"
   ]
  },
  {
   "cell_type": "markdown",
   "metadata": {},
   "source": [
    "It is also possible to use longer notation as well:"
   ]
  },
  {
   "cell_type": "code",
   "execution_count": 8,
   "metadata": {},
   "outputs": [
    {
     "data": {
      "text/latex": [
       "$A: 1 \\\\ B: 1 \\\\ V: \\phi^{2} \\\\ I_V: -$"
      ],
      "text/plain": [
       "A: 1\n",
       "B: 1\n",
       "V: phi**2\n",
       "I_V: None"
      ]
     },
     "execution_count": 8,
     "metadata": {},
     "output_type": "execute_result"
    }
   ],
   "source": [
    "model_replaced = model.insert_parameters({\"p\": 2, \"M_p\": 1})\n",
    "model_replaced"
   ]
  },
  {
   "cell_type": "markdown",
   "metadata": {},
   "source": [
    "# Inflation end value"
   ]
  },
  {
   "cell_type": "markdown",
   "metadata": {},
   "source": [
    "Inflation model can be used to calculate scalar field values in the end and at the beginning of inflation. More about it in ...\n",
    "\n",
    "It is possible to do analytical and numerical solving. Analytical does not require to define all variables but having lot of free variables makes it slower or impossible to solve by Sympy (used Python library for symbolic computations). It is also possible to do calculations in numerically but this requires to define all free variables (except scalar field) and definition of domain where calculations are done. There are two ways to do numerical calculations using \"numpy-scipy\" which is faster, has decent precision and then it is possible to use \"mpmath\" which is library for floating-point arithmetic with arbitrary precision. This allows to make calculations with higher precision which is good when calculating inital value for scalar field."
   ]
  },
  {
   "cell_type": "code",
   "execution_count": 9,
   "metadata": {},
   "outputs": [],
   "source": [
    "# Define solver and insert InflationModel or InflationFunction of epsilon function (latter is already defined in InflationModel).\n",
    "end_solver = InflationEndSolver(model_replaced)"
   ]
  },
  {
   "cell_type": "markdown",
   "metadata": {},
   "source": [
    "#### Analytical solving"
   ]
  },
  {
   "cell_type": "markdown",
   "metadata": {},
   "source": [
    "Sympy has two ways to solve analytical functions. One is called 'solveset' and other is 'solve'. User has to define which method to use. Solveset is newere and currently performs worse (for some functions) but has more accurate answers (showing solution domain). Because of that the result must be further processed to get real solutions and sometimes it reqires the help of user. 'solve' usually has better results (currently) and does not need user's help."
   ]
  },
  {
   "cell_type": "code",
   "execution_count": 10,
   "metadata": {},
   "outputs": [
    {
     "name": "stdout",
     "output_type": "stream",
     "text": [
      "[-sqrt(2), sqrt(2)]\n"
     ]
    }
   ],
   "source": [
    "# Calculate solutions for possible scalar field end values\n",
    "sym_solutions_for_end = end_solver.sym_solve(method='solve')\n",
    "# Print solutions\n",
    "print(sym_solutions_for_end)"
   ]
  },
  {
   "cell_type": "code",
   "execution_count": 11,
   "metadata": {},
   "outputs": [
    {
     "data": {
      "text/plain": [
       "[sqrt(2), -sqrt(2)]"
      ]
     },
     "execution_count": 11,
     "metadata": {},
     "output_type": "execute_result"
    }
   ],
   "source": [
    "# Calculate solutions for possible scalar field end values\n",
    "end_solver.sym_solve(method='solveset')\n"
   ]
  },
  {
   "cell_type": "markdown",
   "metadata": {},
   "source": [
    "#### Numerical solving"
   ]
  },
  {
   "cell_type": "code",
   "execution_count": 35,
   "metadata": {},
   "outputs": [
    {
     "name": "stdout",
     "output_type": "stream",
     "text": [
      "[-1.41421356  1.41421356]\n",
      "[mpf('-1.4142135623730950488016887242096980785696718753769481'), mpf('1.4142135623730950488016887242096980785696718753769481')]\n"
     ]
    }
   ],
   "source": [
    "# Calculate solutions for possible scalar field end values: numpy\n",
    "num_solutions_for_end_np = end_solver.num_solve(interval=[-2, 2])\n",
    "print(num_solutions_for_end_np)\n",
    "# Calculate solutions for possible scalar field end values: mpmath\n",
    "num_solutions_for_end_mp = end_solver.num_solve(interval=[-2, 2], mpmath=True)\n",
    "print(num_solutions_for_end_mp)\n"
   ]
  },
  {
   "cell_type": "code",
   "execution_count": 14,
   "metadata": {},
   "outputs": [],
   "source": [
    "model.dps = 100"
   ]
  },
  {
   "cell_type": "code",
   "execution_count": 15,
   "metadata": {},
   "outputs": [
    {
     "data": {
      "text/plain": [
       "1.4142135623730951"
      ]
     },
     "execution_count": 15,
     "metadata": {},
     "output_type": "execute_result"
    }
   ],
   "source": [
    "num_solutions_for_end_np[1]"
   ]
  },
  {
   "cell_type": "code",
   "execution_count": 16,
   "metadata": {},
   "outputs": [
    {
     "data": {
      "text/plain": [
       "mpf('1.414213562373095')"
      ]
     },
     "execution_count": 16,
     "metadata": {},
     "output_type": "execute_result"
    }
   ],
   "source": [
    "num_solutions_for_end_mp[1]"
   ]
  },
  {
   "cell_type": "markdown",
   "metadata": {},
   "source": [
    "# Inflation initial value"
   ]
  },
  {
   "cell_type": "markdown",
   "metadata": {},
   "source": [
    "Initial value solving returns functions of $\\phi_{\\text{initial}}(N)$ for both: numerical and analytical."
   ]
  },
  {
   "cell_type": "code",
   "execution_count": 17,
   "metadata": {},
   "outputs": [],
   "source": [
    "# Define solver and insert InflationModel or InflationFunction of epsilon function (latter is already defined in InflationModel).\n",
    "initial_solver = InflationStartSolver(model_replaced)"
   ]
  },
  {
   "cell_type": "markdown",
   "metadata": {},
   "source": [
    "#### Analytical solving"
   ]
  },
  {
   "cell_type": "code",
   "execution_count": 36,
   "metadata": {},
   "outputs": [
    {
     "name": "stdout",
     "output_type": "stream",
     "text": [
      "kirjeldus: [-sqrt(4*N + 2), sqrt(4*N + 2)]\n"
     ]
    }
   ],
   "source": [
    "# Calculate solutions for possible scalar field end values\n",
    "sym_solutions_for_start = initial_solver.sym_solve(end_value=sym_solutions_for_end[1], method='solve')\n",
    "# Print solutions\n",
    "print(\"kirjeldus:\", sym_solutions_for_start)"
   ]
  },
  {
   "cell_type": "code",
   "execution_count": 19,
   "metadata": {},
   "outputs": [
    {
     "name": "stdout",
     "output_type": "stream",
     "text": [
      "Solution is expressed as intersection. Solution might be wrongly interpreted. Might need to define solution(s) manually.\n"
     ]
    },
    {
     "data": {
      "text/latex": [
       "$\\displaystyle \\mathbb{R} \\cap \\left\\{- \\sqrt{4 N + 2}, \\sqrt{4 N + 2}\\right\\}$"
      ],
      "text/plain": [
       "Intersection({-sqrt(4*N + 2), sqrt(4*N + 2)}, Reals)"
      ]
     },
     "metadata": {},
     "output_type": "display_data"
    },
    {
     "data": {
      "text/plain": [
       "[sqrt(4*N + 2), -sqrt(4*N + 2)]"
      ]
     },
     "execution_count": 19,
     "metadata": {},
     "output_type": "execute_result"
    }
   ],
   "source": [
    "initial_solver.sym_solve(end_value=sym_solutions_for_end[1], method='solveset')\n"
   ]
  },
  {
   "cell_type": "markdown",
   "metadata": {},
   "source": [
    "#### Numerical solving"
   ]
  },
  {
   "cell_type": "markdown",
   "metadata": {},
   "source": [
    "To calculate numerically user can give maximum N-fold value (default 100). This way differential equation is solved where $\\phi_\\text{initial} = \\phi_{\\text{end}}$ sets N=0 and we solve dif. equation till N_max. Numpy and mpmath methods both return python function which takes in N-fold value.\n"
   ]
  },
  {
   "cell_type": "code",
   "execution_count": 28,
   "metadata": {},
   "outputs": [],
   "source": [
    "model.dps = 100"
   ]
  },
  {
   "cell_type": "code",
   "execution_count": 29,
   "metadata": {},
   "outputs": [
    {
     "name": "stdout",
     "output_type": "stream",
     "text": [
      "Scalar field value at N=50: 14.212856268837687\n",
      "Scalar field value at N=50: 14.2126704035519\n"
     ]
    }
   ],
   "source": [
    "# Calculate solutions for possible scalar field start values: numpy\n",
    "num_solutions_for_start_np = initial_solver.num_solve(end_value=sym_solutions_for_end[1], N_max=100)\n",
    "print(f\"Scalar field value at N=50: {num_solutions_for_start_np(50)}\")\n",
    "# Calculate solutions for possible scalar field start values: mpmath\n",
    "num_solutions_for_start_mp = initial_solver.num_solve(num_solutions_for_end_mp[1], mpmath=True)\n",
    "print(f\"Scalar field value at N=50: {num_solutions_for_start_mp(50)}\")\n"
   ]
  },
  {
   "cell_type": "markdown",
   "metadata": {},
   "source": [
    "From the results we can see discrepancy between scipy and mpmath solutions already in 4th decimal digit."
   ]
  },
  {
   "cell_type": "markdown",
   "metadata": {},
   "source": [
    "# Observational values"
   ]
  },
  {
   "cell_type": "markdown",
   "metadata": {},
   "source": [
    "To calculate observational values scalar spectral index ($n_s$) and tensor-to-scalar ration ($r$) both analytical and numrical solutions can be used.\n",
    "\n",
    "There are three possible modes:\n",
    "\n",
    "    sympy - Result is return in analytical form. Not required to define free variables.\n",
    "    numpy - Result is return in numpy array. All free variables must be defined. (default)\n",
    "    mpmath - Result is return in numpy array. All free variables must be defined. More accurate than numpy."
   ]
  },
  {
   "cell_type": "code",
   "execution_count": 31,
   "metadata": {},
   "outputs": [
    {
     "data": {
      "text/latex": [
       "$\\displaystyle 1 - \\frac{8}{4 N + 2}$"
      ],
      "text/plain": [
       "1 - 8/(4*N + 2)"
      ]
     },
     "execution_count": 31,
     "metadata": {},
     "output_type": "execute_result"
    }
   ],
   "source": [
    "# mode = sympy and result is returned as sympy expression. This returns n_s(N) function\n",
    "model_replaced.calculate_ns(scalar_value=sym_solutions_for_start[1], mode='sympy')"
   ]
  },
  {
   "cell_type": "code",
   "execution_count": 32,
   "metadata": {},
   "outputs": [
    {
     "data": {
      "text/latex": [
       "$\\displaystyle \\frac{97}{101}$"
      ],
      "text/plain": [
       "97/101"
      ]
     },
     "execution_count": 32,
     "metadata": {},
     "output_type": "execute_result"
    }
   ],
   "source": [
    "# mode = sympy and result is returned as sympy expression. This returns  n_s(N) function where N=50\n",
    "model_replaced.calculate_ns(scalar_value=sym_solutions_for_start[1].subs({N: 50}), mode='sympy')"
   ]
  },
  {
   "cell_type": "code",
   "execution_count": 74,
   "metadata": {},
   "outputs": [
    {
     "name": "stdout",
     "output_type": "stream",
     "text": [
      "Analytical: r = 0.15841584158415842\n"
     ]
    }
   ],
   "source": [
    "# mode=numpy but use sympy solution for initial value where N=50\n",
    "# If more then one free variable then all must be defined. For example  .subs({N:50, p:30}). This requires that these symbols are previosuly defined\n",
    "# p = Sp.Symbol('p', real=True) -  where real=True must be added.\n",
    "scalar_field_value_sympy = sym_solutions_for_start[1].subs({N: 50})\n",
    "print(f\"Analytical: r = {model_replaced.calculate_r(scalar_value=scalar_field_value_sympy)}\")"
   ]
  },
  {
   "cell_type": "code",
   "execution_count": 88,
   "metadata": {},
   "outputs": [
    {
     "name": "stdout",
     "output_type": "stream",
     "text": [
      "0.15841169831941423\n"
     ]
    },
    {
     "data": {
      "text/plain": [
       "array([0.26446281, 0.22222222, 0.18934911, 0.16      , 0.14222222])"
      ]
     },
     "execution_count": 88,
     "metadata": {},
     "output_type": "execute_result"
    }
   ],
   "source": [
    "# mode = numpy\n",
    "# Insert single value to calcualte scalar spectral index\n",
    "observational_ns_numpy = model_replaced.calculate_r(scalar_value=num_solutions_for_start_np(50))\n",
    "print(observational_ns_numpy)\n",
    "# It is also possible to insert list/array of values to calculate for all scalar field values\n",
    "model_replaced.calculate_r(scalar_value=[11, 12, 13, 14.1421356, 15])"
   ]
  },
  {
   "cell_type": "code",
   "execution_count": 91,
   "metadata": {},
   "outputs": [
    {
     "name": "stdout",
     "output_type": "stream",
     "text": [
      "0.158411698319414\n"
     ]
    },
    {
     "data": {
      "text/plain": [
       "[mpf('0.26446280991735538'),\n",
       " mpf('0.22222222222222221'),\n",
       " mpf('0.1893491124260355'),\n",
       " mpf('0.16000000053697014'),\n",
       " mpf('0.14222222222222222')]"
      ]
     },
     "execution_count": 91,
     "metadata": {},
     "output_type": "execute_result"
    }
   ],
   "source": [
    "# mode = numpy\n",
    "# Insert single value to calcualte tensor-to-scalar ratio\n",
    "observational_r_mpmath = model_replaced.calculate_r(scalar_value=num_solutions_for_start_np(50), mode='mpmath')\n",
    "print(observational_r_mpmath)\n",
    "# It is also possible to insert list/array of values to calculate for all scalar field values\n",
    "model_replaced.calculate_r(scalar_value=[11, 12, 13, 14.1421356, 15], mode='mpmath')"
   ]
  }
 ],
 "metadata": {
  "interpreter": {
   "hash": "249bb49cbba29d8fc7626d41fe49e4af37b0fa4c88425dabc39d3158c316bf37"
  },
  "kernelspec": {
   "display_name": "Python 3 (ipykernel)",
   "language": "python",
   "name": "python3"
  },
  "language_info": {
   "codemirror_mode": {
    "name": "ipython",
    "version": 3
   },
   "file_extension": ".py",
   "mimetype": "text/x-python",
   "name": "python",
   "nbconvert_exporter": "python",
   "pygments_lexer": "ipython3",
   "version": "3.9.7"
  }
 },
 "nbformat": 4,
 "nbformat_minor": 2
}
