{
 "cells": [
  {
   "cell_type": "code",
   "execution_count": 1,
   "metadata": {},
   "outputs": [],
   "source": [
    "# Import sympy for symbolic calculations\n",
    "import sympy as sp\n",
    "import numpy as np\n",
    "import mpmath as mp\n",
    "\n",
    "import matplotlib.pyplot as plt\n",
    "\n",
    "# Import InflationPy package\n",
    "\n",
    "from inflationpy import SlowRollModel, SlowRollEndSolver, SlowRollStartSolver\n",
    "from inflationpy import FunctionAsolver, FunctionBsolver, FunctionVsolver\n",
    "from inflationpy import NFoldCorrection, ModelCompare\n",
    "\n",
    "from IPython.display import display, Math, Latex"
   ]
  },
  {
   "cell_type": "code",
   "execution_count": 2,
   "metadata": {},
   "outputs": [],
   "source": [
    "phi = sp.Symbol('phi', real=True)\n",
    "p, xi, M_p, N = sp.symbols('p xi M_p N', real=True, positive=True)\n",
    "I_phi = sp.symbols('I_phi', real=True)"
   ]
  },
  {
   "cell_type": "markdown",
   "metadata": {},
   "source": [
    "# Define theory"
   ]
  },
  {
   "cell_type": "code",
   "execution_count": 3,
   "metadata": {},
   "outputs": [],
   "source": [
    "A = 1 + xi * (phi / M_p) ** 2\n",
    "B = \"1\"\n",
    "V_palatini = sp.simplify(A**2 * xi ** (-p / 2) * sp.asinh(sp.sqrt(xi) * phi / M_p) ** p)\n",
    "\n",
    "I_V = (I_phi / M_p) ** p\n",
    "\n",
    "V_metric = sp.simplify(\n",
    "    (\n",
    "        I_V.subs(\n",
    "            I_phi,\n",
    "            M_p\n",
    "            / sp.sqrt(xi)\n",
    "            * (\n",
    "                sp.sqrt(6 * xi + 1) * sp.asinh(sp.sqrt(xi * (6 * xi + 1)) * phi / M_p)\n",
    "                - sp.sqrt(6 * xi) * sp.atanh(sp.sqrt(6) * xi / sp.sqrt(xi * (6 * xi + 1) * phi**2 + M_p**2) * phi)\n",
    "            ),\n",
    "        )\n",
    "        * A**2\n",
    "    )\n",
    ")\n"
   ]
  },
  {
   "cell_type": "code",
   "execution_count": 4,
   "metadata": {},
   "outputs": [],
   "source": [
    "# Initiation takes some time ~ 130 sec\n",
    "metric = SlowRollModel(A=A, B=B, V=V_metric, I_V=I_V, palatini=False)\n",
    "palatini = SlowRollModel(A=A, B=B, V=V_palatini, I_V=I_V, palatini=True)\n"
   ]
  },
  {
   "cell_type": "code",
   "execution_count": 5,
   "metadata": {},
   "outputs": [
    {
     "data": {
      "text/latex": [
       "$\\displaystyle 1 + \\frac{\\phi^{2} \\xi}{M_{p}^{2}}$"
      ],
      "text/plain": [
       "1 + phi**2*xi/M_p**2"
      ]
     },
     "execution_count": 5,
     "metadata": {},
     "output_type": "execute_result"
    }
   ],
   "source": [
    "metric.A.f_s()"
   ]
  },
  {
   "cell_type": "code",
   "execution_count": 6,
   "metadata": {},
   "outputs": [
    {
     "data": {
      "text/latex": [
       "$\\displaystyle 1$"
      ],
      "text/plain": [
       "1"
      ]
     },
     "execution_count": 6,
     "metadata": {},
     "output_type": "execute_result"
    }
   ],
   "source": [
    "metric.B.f_s()"
   ]
  },
  {
   "cell_type": "code",
   "execution_count": 7,
   "metadata": {},
   "outputs": [
    {
     "data": {
      "text/latex": [
       "$\\displaystyle \\frac{\\left(\\frac{\\operatorname{asinh}{\\left(\\frac{\\phi \\sqrt{\\xi}}{M_{p}} \\right)}}{\\sqrt{\\xi}}\\right)^{p} \\left(M_{p}^{2} + \\phi^{2} \\xi\\right)^{2}}{M_{p}^{4}}$"
      ],
      "text/plain": [
       "(asinh(phi*sqrt(xi)/M_p)/sqrt(xi))**p*(M_p**2 + phi**2*xi)**2/M_p**4"
      ]
     },
     "execution_count": 7,
     "metadata": {},
     "output_type": "execute_result"
    }
   ],
   "source": [
    "palatini.V.f_s()"
   ]
  },
  {
   "cell_type": "code",
   "execution_count": 8,
   "metadata": {},
   "outputs": [
    {
     "data": {
      "text/latex": [
       "$\\displaystyle \\frac{\\left(M_{p}^{2} + \\phi^{2} \\xi\\right)^{2} \\left(- \\sqrt{6} \\operatorname{atanh}{\\left(\\frac{\\sqrt{6} \\phi \\xi}{\\sqrt{M_{p}^{2} + 6 \\phi^{2} \\xi^{2} + \\phi^{2} \\xi}} \\right)} + \\frac{\\sqrt{6 \\xi + 1} \\operatorname{asinh}{\\left(\\frac{\\phi \\sqrt{\\xi} \\sqrt{6 \\xi + 1}}{M_{p}} \\right)}}{\\sqrt{\\xi}}\\right)^{p}}{M_{p}^{4}}$"
      ],
      "text/plain": [
       "(M_p**2 + phi**2*xi)**2*(-sqrt(6)*atanh(sqrt(6)*phi*xi/sqrt(M_p**2 + 6*phi**2*xi**2 + phi**2*xi)) + sqrt(6*xi + 1)*asinh(phi*sqrt(xi)*sqrt(6*xi + 1)/M_p)/sqrt(xi))**p/M_p**4"
      ]
     },
     "execution_count": 8,
     "metadata": {},
     "output_type": "execute_result"
    }
   ],
   "source": [
    "metric.V.f_s()"
   ]
  },
  {
   "cell_type": "code",
   "execution_count": 16,
   "metadata": {},
   "outputs": [
    {
     "data": {
      "text/latex": [
       "$\\displaystyle \\left(\\frac{I_{\\phi}}{M_{p}}\\right)^{p}$"
      ],
      "text/plain": [
       "(I_phi/M_p)**p"
      ]
     },
     "execution_count": 16,
     "metadata": {},
     "output_type": "execute_result"
    }
   ],
   "source": [
    "metric.I_V.f_s()"
   ]
  },
  {
   "cell_type": "code",
   "execution_count": 9,
   "metadata": {},
   "outputs": [],
   "source": [
    "x = np.linspace(-5, 5, 1000)\n",
    "y1= palatini.V.f_n(x, p=2, xi=1, M_p=1)\n",
    "y2= metric.V.f_n(x, p=2, xi=1, M_p=1)\n",
    "y11 = palatini.V.f_n(x, p=2, xi=1, M_p=1)/palatini.A.f_n(x, p=2, xi=1, M_p=1)**2\n",
    "y22 = metric.V.f_n(x, p=2, xi=1, M_p=1)/metric.A.f_n(x, p=2, xi=1, M_p=1)**2\n",
    "y3 = metric.I_V.f_n(x, p=2, xi=1, M_p=1)"
   ]
  },
  {
   "cell_type": "code",
   "execution_count": 15,
   "metadata": {},
   "outputs": [
    {
     "data": {
      "text/plain": [
       "<matplotlib.legend.Legend at 0x2238ad94310>"
      ]
     },
     "execution_count": 15,
     "metadata": {},
     "output_type": "execute_result"
    },
    {
     "data": {
      "image/png": "[encoded data removed]",
      "text/plain": [
       "<Figure size 1080x504 with 1 Axes>"
      ]
     },
     "metadata": {
      "needs_background": "light"
     },
     "output_type": "display_data"
    }
   ],
   "source": [
    "plt.figure(figsize=(15, 7))\n",
    "#plt.plot(x, y1, label='Palatini')\n",
    "#plt.plot(x, y2, label='Metric')\n",
    "plt.plot(x, y11, label='$I_V$ Metric')\n",
    "plt.plot(x, y22, label='$I_V$ Palatini')\n",
    "plt.plot(x, y3, label=\"$I_\\phi$\")\n",
    "plt.legend()"
   ]
  },
  {
   "cell_type": "code",
   "execution_count": 11,
   "metadata": {},
   "outputs": [
    {
     "data": {
      "text/latex": [
       "$\\displaystyle \\left(\\frac{I_{\\phi}}{M_{p}}\\right)^{p}$"
      ],
      "text/plain": [
       "(I_phi/M_p)**p"
      ]
     },
     "execution_count": 11,
     "metadata": {},
     "output_type": "execute_result"
    }
   ],
   "source": [
    "metric.I_V.f_s()"
   ]
  },
  {
   "cell_type": "code",
   "execution_count": 12,
   "metadata": {},
   "outputs": [],
   "source": [
    "# Simplify only functions and not their derivatives\n",
    "#metric.simplify() # Takes a more time than palatin as metric formalism is more complex\n",
    "metric.simplify(inverse=True)\n",
    "palatini.simplify()\n",
    "#palatini.simplify(inverse=True)"
   ]
  },
  {
   "cell_type": "code",
   "execution_count": 13,
   "metadata": {},
   "outputs": [
    {
     "data": {
      "text/latex": [
       "$\\displaystyle A: \\phi \\in \\mathbb{R}$"
      ],
      "text/plain": [
       "<IPython.core.display.Math object>"
      ]
     },
     "metadata": {},
     "output_type": "display_data"
    },
    {
     "data": {
      "text/latex": [
       "$\\displaystyle B: \\phi \\in \\mathbb{R}$"
      ],
      "text/plain": [
       "<IPython.core.display.Math object>"
      ]
     },
     "metadata": {},
     "output_type": "display_data"
    },
    {
     "data": {
      "text/latex": [
       "$\\displaystyle V: \\phi \\in \\mathbb{R}$"
      ],
      "text/plain": [
       "<IPython.core.display.Math object>"
      ]
     },
     "metadata": {},
     "output_type": "display_data"
    },
    {
     "data": {
      "text/latex": [
       "$\\displaystyle F: \\phi \\in \\mathbb{R}$"
      ],
      "text/plain": [
       "<IPython.core.display.Math object>"
      ]
     },
     "metadata": {},
     "output_type": "display_data"
    },
    {
     "data": {
      "text/latex": [
       "$\\displaystyle \\epsilon: \\left(-\\infty, 0\\right) \\cup \\left(0, \\infty\\right)$"
      ],
      "text/plain": [
       "<IPython.core.display.Math object>"
      ]
     },
     "metadata": {},
     "output_type": "display_data"
    },
    {
     "data": {
      "text/latex": [
       "$\\displaystyle \\eta: \\left(-\\infty, 0\\right) \\cup \\left(0, \\infty\\right)$"
      ],
      "text/plain": [
       "<IPython.core.display.Math object>"
      ]
     },
     "metadata": {},
     "output_type": "display_data"
    },
    {
     "data": {
      "text/latex": [
       "$\\displaystyle \\text{Intersection}: \\left(-\\infty, 0\\right) \\cup \\left(0, \\infty\\right)$"
      ],
      "text/plain": [
       "<IPython.core.display.Math object>"
      ]
     },
     "metadata": {},
     "output_type": "display_data"
    }
   ],
   "source": [
    "palatini.inspect();"
   ]
  },
  {
   "cell_type": "markdown",
   "metadata": {},
   "source": [
    "# Compare $I_V$ and $(A, B, V)$ theories"
   ]
  },
  {
   "cell_type": "code",
   "execution_count": 17,
   "metadata": {},
   "outputs": [],
   "source": [
    "compare_metric = ModelCompare(metric)\n",
    "compare_palatini = ModelCompare(palatini)"
   ]
  },
  {
   "cell_type": "markdown",
   "metadata": {},
   "source": [
    "#### Compare invariant potentials (Palatini)\n",
    "\n",
    "For these functions it can be done analytically"
   ]
  },
  {
   "cell_type": "code",
   "execution_count": 8,
   "metadata": {},
   "outputs": [],
   "source": [
    "invariant_scalar_field = compare_palatini.solve_invariant_field()\n",
    "potential1, potential2 = compare_palatini.compare_invariant_potential(invariant_scalar_field, simplify=True)"
   ]
  },
  {
   "cell_type": "code",
   "execution_count": 9,
   "metadata": {},
   "outputs": [
    {
     "data": {
      "text/latex": [
       "$\\displaystyle \\left(\\frac{\\operatorname{asinh}{\\left(\\frac{\\phi \\sqrt{\\xi}}{M_{p}} \\right)}}{\\sqrt{\\xi}}\\right)^{p}$"
      ],
      "text/plain": [
       "(asinh(phi*sqrt(xi)/M_p)/sqrt(xi))**p"
      ]
     },
     "metadata": {},
     "output_type": "display_data"
    },
    {
     "data": {
      "text/latex": [
       "$\\displaystyle \\left(\\frac{\\operatorname{asinh}{\\left(\\frac{\\phi \\sqrt{\\xi}}{M_{p}} \\right)}}{\\sqrt{\\xi}}\\right)^{p}$"
      ],
      "text/plain": [
       "(asinh(phi*sqrt(xi)/M_p)/sqrt(xi))**p"
      ]
     },
     "metadata": {},
     "output_type": "display_data"
    }
   ],
   "source": [
    "# Calculated using V/A**2\n",
    "display(potential1)\n",
    "# Calclated using I_V(I_phi)\n",
    "display(potential2)"
   ]
  },
  {
   "cell_type": "markdown",
   "metadata": {},
   "source": [
    "#### Compare invariant scalar field (Palatini)\n",
    "\n",
    "For these functions it can be done analytically"
   ]
  },
  {
   "cell_type": "code",
   "execution_count": 10,
   "metadata": {},
   "outputs": [],
   "source": [
    "inverse_invariant_potential = compare_palatini.solve_I_V_inverse()"
   ]
  },
  {
   "cell_type": "code",
   "execution_count": 11,
   "metadata": {},
   "outputs": [],
   "source": [
    "field1, field2 = compare_palatini.compare_invariant_field(inverse_invariant_potential[0], simplify=True)"
   ]
  },
  {
   "cell_type": "code",
   "execution_count": 12,
   "metadata": {},
   "outputs": [
    {
     "data": {
      "text/latex": [
       "$\\displaystyle \\frac{M_{p} \\left(\\operatorname{asinh}^{p}{\\left(\\frac{\\phi \\sqrt{\\xi}}{M_{p}} \\right)}\\right)^{\\frac{1}{p}}}{\\sqrt{\\xi}}$"
      ],
      "text/plain": [
       "M_p*(asinh(phi*sqrt(xi)/M_p)**p)**(1/p)/sqrt(xi)"
      ]
     },
     "metadata": {},
     "output_type": "display_data"
    },
    {
     "data": {
      "text/latex": [
       "$\\displaystyle \\frac{M_{p} \\operatorname{asinh}{\\left(\\frac{\\phi \\sqrt{\\xi}}{M_{p}} \\right)}}{\\sqrt{\\xi}}$"
      ],
      "text/plain": [
       "M_p*asinh(phi*sqrt(xi)/M_p)/sqrt(xi)"
      ]
     },
     "metadata": {},
     "output_type": "display_data"
    }
   ],
   "source": [
    "# Calculated using potential inverse function\n",
    "display(field1)\n",
    "# Calclated using I_phi definition\n",
    "display(field2)"
   ]
  },
  {
   "cell_type": "markdown",
   "metadata": {},
   "source": [
    "#### Compare invariant potentials (Metric)\n",
    "\n",
    "For these functions it must be done numerically"
   ]
  },
  {
   "cell_type": "code",
   "execution_count": 13,
   "metadata": {},
   "outputs": [],
   "source": [
    "interval = [0, 5]\n",
    "x = np.linspace(interval[0], interval[1] , 100)\n",
    "metric_invariant_field_mp = compare_metric.nsolve_field_mp(interval, 0, params={M_p:1, xi:1, p:2})\n",
    "inverse_mp = sp.lambdify(compare_metric.IV_symbol, compare_metric.solve_I_V_inverse(params={p:2, M_p:1})[0], 'mpmath')\n",
    "metric_invariant_field_np = compare_metric.nsolve_field_np(interval, 0, params={M_p:1, xi:1, p:2}, sc_kwargs=dict(method='LSODA', atol=1e-10, rtol=1e-10, t_eval=x))\n",
    "inverse_np = sp.lambdify(compare_metric.IV_symbol, compare_metric.solve_I_V_inverse(params={p:2, M_p:1})[0], 'scipy')\n"
   ]
  },
  {
   "cell_type": "code",
   "execution_count": 14,
   "metadata": {},
   "outputs": [],
   "source": [
    "potential1, potential2 = compare_metric.compare_invariant_potential_mp(x, metric_invariant_field_mp, params={M_p:1, xi:1, p:2})\n",
    "potential3, potential4 = compare_metric.compare_invariant_potential_np(x, metric_invariant_field_np, params={M_p:1, xi:1, p:2})"
   ]
  },
  {
   "cell_type": "code",
   "execution_count": 15,
   "metadata": {},
   "outputs": [],
   "source": [
    "scalar_field1, scalar_field2 = compare_metric.compare_invariant_field_mp(x, inverse_mp, metric_invariant_field_mp, params={M_p:1, xi:1, p:2})\n",
    "scalar_field3, scalar_field4 = compare_metric.compare_invariant_field_np(x, inverse_np, metric_invariant_field_np, params={M_p:1, xi:1, p:2})"
   ]
  },
  {
   "cell_type": "code",
   "execution_count": 16,
   "metadata": {},
   "outputs": [
    {
     "data": {
      "text/plain": [
       "<matplotlib.legend.Legend at 0x1ea09768610>"
      ]
     },
     "execution_count": 16,
     "metadata": {},
     "output_type": "execute_result"
    },
    {
     "data": {
      "image/png": "[encoded data removed]",
      "text/plain": [
       "<Figure size 432x288 with 1 Axes>"
      ]
     },
     "metadata": {
      "needs_background": "light"
     },
     "output_type": "display_data"
    }
   ],
   "source": [
    "plt.plot(x, np.array(scalar_field1) - np.array(scalar_field3), label='mpmath')\n",
    "#plt.plot(x, scalar_field2)\n",
    "plt.plot(x, np.array(scalar_field2) - np.array(scalar_field4), label='scipy')\n",
    "#plt.plot(x, scalar_field4)\n",
    "#plt.yscale('log')\n",
    "plt.legend()"
   ]
  },
  {
   "cell_type": "code",
   "execution_count": 17,
   "metadata": {},
   "outputs": [
    {
     "data": {
      "text/plain": [
       "<matplotlib.legend.Legend at 0x1ea0c8387f0>"
      ]
     },
     "execution_count": 17,
     "metadata": {},
     "output_type": "execute_result"
    },
    {
     "data": {
      "image/png": "[encoded data removed]",
      "text/plain": [
       "<Figure size 432x288 with 1 Axes>"
      ]
     },
     "metadata": {
      "needs_background": "light"
     },
     "output_type": "display_data"
    }
   ],
   "source": [
    "# plt.plot(x, potential1, label='mpmath, $V/A^2$')\n",
    "# plt.plot(x, potential2, label='mpmath, calculated $I_\\phi$')\n",
    "# plt.plot(x, potential3, label='numpy, $V/A^2$')\n",
    "# plt.plot(x, potential4, label='numpy, calculated $I_\\phi$')\n",
    "plt.plot(x, np.array(potential1) - np.array(potential3), label='mpmath')\n",
    "plt.plot(x, np.array(potential2) - np.array(potential4), label='scipy')\n",
    "#plt.yscale('log')\n",
    "plt.legend()"
   ]
  },
  {
   "cell_type": "markdown",
   "metadata": {},
   "source": [
    "# Calculate observables"
   ]
  },
  {
   "cell_type": "markdown",
   "metadata": {},
   "source": [
    "## End solver"
   ]
  },
  {
   "cell_type": "code",
   "execution_count": 18,
   "metadata": {},
   "outputs": [],
   "source": [
    "end_solver_palatini = SlowRollEndSolver(model=palatini)\n",
    "end_solver_metric = SlowRollEndSolver(model=metric)\n",
    "end_solver_invariant = SlowRollEndSolver(model=metric, invariant=True)"
   ]
  },
  {
   "cell_type": "code",
   "execution_count": 19,
   "metadata": {},
   "outputs": [
    {
     "name": "stdout",
     "output_type": "stream",
     "text": [
      "For interval in [0, 5] solutions for palatini are: 1.93506682217436\n",
      "For interval in [0, 5] solutions for metric are: 1.1012939771279\n",
      "For interval in [0, 5] solutions for invariant are: 1.4142135623731\n"
     ]
    }
   ],
   "source": [
    "parameters = {M_p:1, p:2, xi:1}\n",
    "field_interval = [0, 5]\n",
    "end_value_palatini = end_solver_palatini.nsolve_mp(field_interval, params=parameters)\n",
    "print(f\"For interval in {field_interval} solutions for palatini are: {' '.join([str(x) for x in end_value_palatini])}\")\n",
    "end_value_metric = end_solver_metric.nsolve_mp(field_interval, params=parameters)\n",
    "print(f\"For interval in {field_interval} solutions for metric are: {' '.join([str(x) for x in end_value_metric])}\")\n",
    "end_value_invariant = end_solver_invariant.nsolve_mp(field_interval, params=parameters)\n",
    "print(f\"For interval in {field_interval} solutions for invariant are: {' '.join([str(x) for x in end_value_invariant])}\")"
   ]
  },
  {
   "cell_type": "markdown",
   "metadata": {},
   "source": [
    "## Start solver"
   ]
  },
  {
   "cell_type": "code",
   "execution_count": 20,
   "metadata": {},
   "outputs": [],
   "source": [
    "initial_solver_palatini = SlowRollStartSolver(model=palatini)\n",
    "initial_solver_metric = SlowRollStartSolver(model=metric)\n",
    "initial_solver_invariant = SlowRollStartSolver(model=metric, invariant=True)"
   ]
  },
  {
   "cell_type": "code",
   "execution_count": 21,
   "metadata": {},
   "outputs": [
    {
     "name": "stdout",
     "output_type": "stream",
     "text": [
      "Solutions for palatini are: N=50: 743796.848167858 N=60: 2851061.68960545\n",
      "Solutions for palatini are: N=50: 183.697024357317 N=60: 305.258638628391\n",
      "Solutions for palatini are: N=50: 14.2126704035519 N=60: 15.556349186104\n"
     ]
    }
   ],
   "source": [
    "def return_values(function, N_values):\n",
    "    result = [function(x) for x in N_values]\n",
    "    string_result = ' '.join([f'N={N_value}: {x}' for N_value, x in zip(N_values, result)])\n",
    "    return result, string_result\n",
    "\n",
    "N_values = [50, 60]\n",
    "initial_value_palatini_f = initial_solver_palatini.nsolve_mp(end_value_palatini[-1], params=parameters)\n",
    "palatini_initial, palatini_initial_str = return_values(initial_value_palatini_f, N_values)\n",
    "print(f\"Solutions for palatini are: {palatini_initial_str}\")\n",
    "initial_value_metric_f = initial_solver_metric.nsolve_mp(end_value_metric[-1], params=parameters)\n",
    "metric_initial, metric_initial_str = return_values(initial_value_metric_f, N_values)\n",
    "print(f\"Solutions for palatini are: {metric_initial_str}\")\n",
    "initial_value_invariant_f = initial_solver_invariant.nsolve_mp(end_value_invariant[-1], params=parameters)\n",
    "invariant_initial, invariant_initial_str = return_values(initial_value_invariant_f, N_values)\n",
    "print(f\"Solutions for palatini are: {invariant_initial_str}\")"
   ]
  },
  {
   "cell_type": "markdown",
   "metadata": {},
   "source": [
    "# Observable values"
   ]
  },
  {
   "cell_type": "markdown",
   "metadata": {},
   "source": [
    "## $n_s$ and $r$"
   ]
  },
  {
   "cell_type": "code",
   "execution_count": 22,
   "metadata": {},
   "outputs": [
    {
     "name": "stdout",
     "output_type": "stream",
     "text": [
      "n_s values for palatini: N=50: 0.96039603960396 N=60: 0.966942148760331\n",
      "r values for palatini: N=50: 0.158415841584158 N=60: 0.132231404958678\n",
      "n_s values for metric: N=50: 0.96039603960396 N=60: 0.96694214876033\n",
      "r values for metric: N=50: 0.158415841584158 N=60: 0.132231404958677\n",
      "n_s values for invariant: N=50: 0.96039603960396 N=60: 0.966942148760331\n",
      "r values for invariant: N=50: 0.158415841584158 N=60: 0.132231404958678\n"
     ]
    }
   ],
   "source": [
    "def return_observables(model, initial_values, N_values, invariant, params):\n",
    "    result_r = [model.calculate_r_mp(initial_value, params=params, invariant=invariant) for initial_value in initial_values]\n",
    "    result_ns = [model.calculate_ns_mp(initial_value, params=params, invariant=invariant) for initial_value in initial_values]\n",
    "\n",
    "    str_r = [f\"N={N_value}: {r_value}\" for N_value, r_value in zip(N_values, result_r)]\n",
    "    str_ns = [f\"N={N_value}: {ns_value}\" for N_value, ns_value in zip(N_values, result_ns)]\n",
    "    return str_ns, str_r\n",
    "\n",
    "\n",
    "palatini_ns, palatini_r = return_observables(palatini, palatini_initial, N_values, False, parameters)\n",
    "\n",
    "print(f\"n_s values for palatini: {' '.join(palatini_ns)}\")\n",
    "print(f\"r values for palatini: {' '.join(palatini_r)}\")\n",
    "\n",
    "metric_ns, metric_r = return_observables(metric, metric_initial, N_values, False, parameters)\n",
    "print(f\"n_s values for metric: {' '.join(metric_ns)}\")\n",
    "print(f\"r values for metric: {' '.join(metric_r)}\")\n",
    "\n",
    "invariant_ns, invariant_r = return_observables(metric, invariant_initial, N_values, True, parameters)\n",
    "\n",
    "print(f\"n_s values for invariant: {' '.join(invariant_ns)}\")\n",
    "print(f\"r values for invariant: {' '.join(invariant_r)}\")"
   ]
  }
 ],
 "metadata": {
  "interpreter": {
   "hash": "726da861d6979e270a7c3bba3df6b48d2f051a2431207b1427b050afc1f83a8f"
  },
  "kernelspec": {
   "display_name": "Python 3 (ipykernel)",
   "language": "python",
   "name": "python3"
  },
  "language_info": {
   "codemirror_mode": {
    "name": "ipython",
    "version": 3
   },
   "file_extension": ".py",
   "mimetype": "text/x-python",
   "name": "python",
   "nbconvert_exporter": "python",
   "pygments_lexer": "ipython3",
   "version": "3.9.7"
  }
 },
 "nbformat": 4,
 "nbformat_minor": 2
}
