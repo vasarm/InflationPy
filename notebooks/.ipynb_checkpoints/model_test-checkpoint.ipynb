{
 "cells": [
  {
   "cell_type": "code",
   "execution_count": 1,
   "metadata": {},
   "outputs": [],
   "source": [
    "from inflationpy.core.model import InflationModel\n",
    "\n",
    "from inflationpy.core.functions import InflationFunction\n",
    "\n",
    "from inflationpy.solvers.inflation_solvers import InflationEndSolver, InflationStartSolver\n",
    "\n",
    "import numpy as np\n",
    "import sympy as sp\n",
    "import mpmath as mp"
   ]
  },
  {
   "cell_type": "code",
   "execution_count": 9,
   "metadata": {},
   "outputs": [],
   "source": [
    "A = InflationFunction(\"1\")\n",
    "B = InflationFunction(\"1\")\n",
    "#V = InflationFunction(\"phi^p\")\n",
    "V = InflationFunction(\"(1-exp(-(sqrt(2/(3*alpha))*phi)))^2\")\n",
    "IV = InflationFunction(\"phi^p\")"
   ]
  },
  {
   "cell_type": "code",
   "execution_count": 11,
   "metadata": {},
   "outputs": [],
   "source": [
    "model = InflationModel(A, B, V)\n",
    "model_2 = model.insert_parameters({\"M_p\": 1, 'alpha': 1})"
   ]
  },
  {
   "cell_type": "code",
   "execution_count": 7,
   "metadata": {},
   "outputs": [
    {
     "data": {
      "text/latex": [
       "$A: 1 \\\\ B: 1 \\\\ V: \\left(1 - e^{- \\frac{\\sqrt{6} \\phi \\sqrt{\\frac{1}{\\alpha}}}{3}}\\right)^{2} \\\\ I_V: -$"
      ],
      "text/plain": [
       "A: 1\n",
       "B: 1\n",
       "V: (1 - exp(-sqrt(6)*phi*sqrt(1/alpha)/3))**2\n",
       "I_V: None"
      ]
     },
     "execution_count": 7,
     "metadata": {},
     "output_type": "execute_result"
    }
   ],
   "source": [
    "model"
   ]
  },
  {
   "cell_type": "code",
   "execution_count": 12,
   "metadata": {},
   "outputs": [
    {
     "data": {
      "text/latex": [
       "$A: 1 \\\\ B: 1 \\\\ V: \\left(1 - e^{- \\frac{\\sqrt{6} \\phi}{3}}\\right)^{2} \\\\ I_V: -$"
      ],
      "text/plain": [
       "A: 1\n",
       "B: 1\n",
       "V: (1 - exp(-sqrt(6)*phi/3))**2\n",
       "I_V: None"
      ]
     },
     "execution_count": 12,
     "metadata": {},
     "output_type": "execute_result"
    }
   ],
   "source": [
    "model_2"
   ]
  },
  {
   "cell_type": "code",
   "execution_count": 13,
   "metadata": {},
   "outputs": [],
   "source": [
    "#solver1 = InflationEndSolver(model.epsilon)\n",
    "#end_values1 = solver1.sym_solve(method='solve')\n",
    "solver2 = InflationEndSolver(model_2.epsilon)\n",
    "end_values2 = solver2.sym_solve(method='solve')\n",
    "#sol_n = solver.numeric_solve([-5, 5], mpmath=True)"
   ]
  },
  {
   "cell_type": "code",
   "execution_count": 15,
   "metadata": {},
   "outputs": [
    {
     "data": {
      "text/latex": [
       "$\\displaystyle \\frac{\\sqrt{6} \\log{\\left(5 + \\frac{26 \\sqrt{3}}{9} \\right)}}{6}$"
      ],
      "text/plain": [
       "sqrt(6)*log(5 + 26*sqrt(3)/9)/6"
      ]
     },
     "execution_count": 15,
     "metadata": {},
     "output_type": "execute_result"
    }
   ],
   "source": [
    "end_values2[0]"
   ]
  },
  {
   "cell_type": "code",
   "execution_count": null,
   "metadata": {},
   "outputs": [],
   "source": [
    "#start_solver1 = InflationStartSolver(model.N_integrand)\n",
    "start_solver2= InflationStartSolver(model_2.N_integrand)\n",
    "#initial_values1 = start_solver1.sympy_solve(end_values1[1], method='solve')\n",
    "initial_values2 = start_solver2.sym_solve(end_values2[0], method='solve')\n",
    "N = sp.Symbol(\"N\", real=True)"
   ]
  },
  {
   "cell_type": "code",
   "execution_count": null,
   "metadata": {},
   "outputs": [],
   "source": [
    "initial_values"
   ]
  },
  {
   "cell_type": "code",
   "execution_count": 6,
   "metadata": {},
   "outputs": [
    {
     "data": {
      "text/latex": [
       "$\\displaystyle 1 + \\frac{8 \\left(\\frac{2 e^{\\frac{4 N}{3} + W\\left(- \\frac{\\sqrt{3} \\sqrt[18]{9863382151 + 5694626340 \\sqrt{3}} e^{- \\frac{4 N}{3} - \\frac{\\sqrt[3]{3} \\sqrt[3]{45 + 26 \\sqrt{3}}}{3}}}{3}\\right) + \\frac{\\sqrt[3]{135 + 78 \\sqrt{3}}}{3}}}{\\sqrt[3]{5 + \\frac{26 \\sqrt{3}}{9}}} - 1\\right) e^{\\frac{4 N}{3} + W\\left(- \\frac{\\sqrt{3} \\sqrt[18]{9863382151 + 5694626340 \\sqrt{3}} e^{- \\frac{4 N}{3} - \\frac{\\sqrt[3]{3} \\sqrt[3]{45 + 26 \\sqrt{3}}}{3}}}{3}\\right) + \\frac{\\sqrt[3]{135 + 78 \\sqrt{3}}}{3}}}{3 \\sqrt[3]{5 + \\frac{26 \\sqrt{3}}{9}} \\left(- \\frac{e^{\\frac{4 N}{3} + W\\left(- \\frac{\\sqrt{3} \\sqrt[18]{9863382151 + 5694626340 \\sqrt{3}} e^{- \\frac{4 N}{3} - \\frac{\\sqrt[3]{3} \\sqrt[3]{45 + 26 \\sqrt{3}}}{3}}}{3}\\right) + \\frac{\\sqrt[3]{135 + 78 \\sqrt{3}}}{3}}}{\\sqrt[3]{5 + \\frac{26 \\sqrt{3}}{9}}} + 1\\right)^{2}} - \\frac{8 e^{\\frac{8 N}{3} + 2 W\\left(- \\frac{\\sqrt{3} \\sqrt[18]{9863382151 + 5694626340 \\sqrt{3}} e^{- \\frac{4 N}{3} - \\frac{\\sqrt[3]{3} \\sqrt[3]{45 + 26 \\sqrt{3}}}{3}}}{3}\\right) + \\frac{2 \\sqrt[3]{135 + 78 \\sqrt{3}}}{3}}}{\\left(5 + \\frac{26 \\sqrt{3}}{9}\\right)^{\\frac{2}{3}} \\left(- \\frac{e^{\\frac{4 N}{3} + W\\left(- \\frac{\\sqrt{3} \\sqrt[18]{9863382151 + 5694626340 \\sqrt{3}} e^{- \\frac{4 N}{3} - \\frac{\\sqrt[3]{3} \\sqrt[3]{45 + 26 \\sqrt{3}}}{3}}}{3}\\right) + \\frac{\\sqrt[3]{135 + 78 \\sqrt{3}}}{3}}}{\\sqrt[3]{5 + \\frac{26 \\sqrt{3}}{9}}} + 1\\right)^{2}}$"
      ],
      "text/plain": [
       "1 + 8*(2*exp(4*N/3 + LambertW(-sqrt(3)*(9863382151 + 5694626340*sqrt(3))**(1/18)*exp(-4*N/3 - 3**(1/3)*(45 + 26*sqrt(3))**(1/3)/3)/3) + (135 + 78*sqrt(3))**(1/3)/3)/(5 + 26*sqrt(3)/9)**(1/3) - 1)*exp(4*N/3 + LambertW(-sqrt(3)*(9863382151 + 5694626340*sqrt(3))**(1/18)*exp(-4*N/3 - 3**(1/3)*(45 + 26*sqrt(3))**(1/3)/3)/3) + (135 + 78*sqrt(3))**(1/3)/3)/(3*(5 + 26*sqrt(3)/9)**(1/3)*(-exp(4*N/3 + LambertW(-sqrt(3)*(9863382151 + 5694626340*sqrt(3))**(1/18)*exp(-4*N/3 - 3**(1/3)*(45 + 26*sqrt(3))**(1/3)/3)/3) + (135 + 78*sqrt(3))**(1/3)/3)/(5 + 26*sqrt(3)/9)**(1/3) + 1)**2) - 8*exp(8*N/3 + 2*LambertW(-sqrt(3)*(9863382151 + 5694626340*sqrt(3))**(1/18)*exp(-4*N/3 - 3**(1/3)*(45 + 26*sqrt(3))**(1/3)/3)/3) + 2*(135 + 78*sqrt(3))**(1/3)/3)/((5 + 26*sqrt(3)/9)**(2/3)*(-exp(4*N/3 + LambertW(-sqrt(3)*(9863382151 + 5694626340*sqrt(3))**(1/18)*exp(-4*N/3 - 3**(1/3)*(45 + 26*sqrt(3))**(1/3)/3)/3) + (135 + 78*sqrt(3))**(1/3)/3)/(5 + 26*sqrt(3)/9)**(1/3) + 1)**2)"
      ]
     },
     "execution_count": 6,
     "metadata": {},
     "output_type": "execute_result"
    }
   ],
   "source": [
    "model_2.calculate_ns(initial_values2[0], mode='sympy')"
   ]
  },
  {
   "cell_type": "markdown",
   "metadata": {},
   "source": [
    "# Probleem:\n",
    "\n",
    "Numbrilisel arvutamisel leiame lahendi diferentsiaalvõrrandile. Analüütilisel lahendamisel me eelkõige integreerime ning siis leiame funktsioonist $N = f(\\phi)$ pöördfunktsiooni $\\phi = g(N)$. Siin tekib üks probleem - nimelt kui analüütiline lahend leiab mitmeid lahendeid (harusid) siis numbriline leiab ainult ühe lahendi. \n",
    "\n",
    "Näiteks kui kasutada Starobinsky potentsiaali, siis tuleb meil lahenditesse LambertW funktsioon. Sel on lõpmtu arv harusid, millest ainult kaks annavad reaalväärtuseid lahendeid (teatud tingimustel)."
   ]
  },
  {
   "cell_type": "code",
   "execution_count": 22,
   "metadata": {},
   "outputs": [],
   "source": [
    "result = start_solver2.numeric_solve(end_values2[0])\n",
    "result2 = start_solver2.numeric_solve(end_values2[0], mpmath=True)"
   ]
  },
  {
   "cell_type": "code",
   "execution_count": 24,
   "metadata": {},
   "outputs": [
    {
     "data": {
      "text/plain": [
       "array(5.24185859)"
      ]
     },
     "execution_count": 24,
     "metadata": {},
     "output_type": "execute_result"
    }
   ],
   "source": [
    "result(60)"
   ]
  },
  {
   "cell_type": "code",
   "execution_count": 27,
   "metadata": {},
   "outputs": [
    {
     "data": {
      "text/plain": [
       "mpf('5.4531515602797063')"
      ]
     },
     "execution_count": 27,
     "metadata": {},
     "output_type": "execute_result"
    }
   ],
   "source": [
    "result2(60)"
   ]
  },
  {
   "cell_type": "markdown",
   "metadata": {},
   "source": [
    "# $n_s$ and $r$:\n",
    "\n",
    "1.1) We have analytic function $\\phi_0 = f(N)$ -> Substitute result into the $n_s$ and $r$. Should be different function as it returns non numeric value.\n",
    "\n",
    "2.1) We have numeric/python function\n",
    "\n",
    "2.2) We have numerical values\n",
    "\n",
    "Solution:\n",
    "* If $\\phi_0$ is sympy expression then doesn't require numerical N value\n",
    "* If $\\phi_0$ is python function of some sort then N value is required\n",
    "* If $\\phi_0$ is number then calculate value"
   ]
  },
  {
   "cell_type": "code",
   "execution_count": 39,
   "metadata": {},
   "outputs": [],
   "source": [
    "a = np.array([mp.mpf(2), mp.mpf(3), sp.sympify('24')], dtype=float)"
   ]
  },
  {
   "cell_type": "code",
   "execution_count": 43,
   "metadata": {},
   "outputs": [
    {
     "data": {
      "text/plain": [
       "mpf('2.0')"
      ]
     },
     "execution_count": 43,
     "metadata": {},
     "output_type": "execute_result"
    }
   ],
   "source": [
    "mp.mpf(sp.sympify('2.0'))"
   ]
  },
  {
   "cell_type": "code",
   "execution_count": 41,
   "metadata": {},
   "outputs": [
    {
     "data": {
      "text/plain": [
       "array([ 2.,  3., 24.])"
      ]
     },
     "execution_count": 41,
     "metadata": {},
     "output_type": "execute_result"
    }
   ],
   "source": [
    "np.array(a, dtype=float)"
   ]
  }
 ],
 "metadata": {
  "interpreter": {
   "hash": "249bb49cbba29d8fc7626d41fe49e4af37b0fa4c88425dabc39d3158c316bf37"
  },
  "kernelspec": {
   "display_name": "Python 3 (ipykernel)",
   "language": "python",
   "name": "python3"
  },
  "language_info": {
   "codemirror_mode": {
    "name": "ipython",
    "version": 3
   },
   "file_extension": ".py",
   "mimetype": "text/x-python",
   "name": "python",
   "nbconvert_exporter": "python",
   "pygments_lexer": "ipython3",
   "version": "3.9.7"
  }
 },
 "nbformat": 4,
 "nbformat_minor": 2
}
