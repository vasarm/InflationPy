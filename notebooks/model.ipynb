{
 "cells": [
  {
   "cell_type": "code",
   "execution_count": 1,
   "metadata": {},
   "outputs": [],
   "source": [
    "# Import sympy for defining symbols\n",
    "import sympy as sp\n",
    "# Import mpmath for increasing numerical accuracy\n",
    "import mpmath as mp\n",
    "\n",
    "from IPython.display import display\n",
    "\n",
    "# Import InflationPy package\n",
    "from inflationpy import SlowRollModel\n",
    "from inflationpy import InflationFunction\n",
    "from inflationpy import SlowRollEndSolver, SlowRollStartSolver"
   ]
  },
  {
   "cell_type": "markdown",
   "metadata": {},
   "source": [
    "# Model\n",
    "\n",
    "Let's define minimally connected scalar field theory with power-law potential.\n",
    "\n",
    "We can choose formalism between metric and palatini."
   ]
  },
  {
   "cell_type": "code",
   "execution_count": 2,
   "metadata": {},
   "outputs": [],
   "source": [
    "# It is advised to define used symbols with sympy to prevent errors and for easier later use.\n",
    "phi, I_phi = sp.symbols(\"phi I_phi\", real=True)\n",
    "# Define p as model free parameter and N as N-fold symbol\n",
    "p, N, M_p = sp.symbols(\"p N M_p\", real=True, positive=True)\n",
    "\n",
    "A = InflationFunction(\"1\")\n",
    "B = InflationFunction(\"1\")\n",
    "V = InflationFunction((phi/M_p)**p)\n",
    "# We must change I_V symbol to I_phi as by default it assumes that symbolI = sp.Symbol(\"I_phi\", real=True)\n",
    "I_V = InflationFunction((I_phi/M_p)**p, symbol=I_phi)\n",
    "# Let's set formalism to palatini, by default formalism is metric (palatini=False)\n",
    "model = SlowRollModel(A=A, B=B, V=V, I_V=I_V, palatini=True)\n"
   ]
  },
  {
   "cell_type": "markdown",
   "metadata": {},
   "source": [
    "We have now defined one inflation model and can do calculations with it. We can see our defined functions:"
   ]
  },
  {
   "cell_type": "code",
   "execution_count": 3,
   "metadata": {},
   "outputs": [
    {
     "data": {
      "text/latex": [
       "$A= 1 \\\\ B= 1 \\\\ V= \\left(\\frac{\\phi}{M_{p}}\\right)^{p} \\\\ I_V= \\left(\\frac{I_{\\phi}}{M_{p}}\\right)^{p}$"
      ],
      "text/plain": [
       "A= 1\n",
       "B= 1\n",
       "V= (phi/M_p)**p\n",
       "I_V= (I_phi/M_p)**p"
      ]
     },
     "execution_count": 3,
     "metadata": {},
     "output_type": "execute_result"
    }
   ],
   "source": [
    "model"
   ]
  },
  {
   "cell_type": "markdown",
   "metadata": {},
   "source": [
    "We can check inspect model to check in what domains functions have defined. We can quickly check that if:\n",
    "$$A(\\phi) > 0 $$\n",
    "$$F[A(\\phi), B(\\phi)] > 0$$\n",
    "$$B(\\phi), \\  V(\\phi), \\ I_V(I_\\phi)  \\text{ domain in } \\mathbb{R}$$\n",
    "$$\\epsilon, \\  \\eta \\text{ domain in } \\mathbb{R}$$\n",
    "\n",
    "In some cases if function is too complicated sympy can't get results and then '-' will be shown as result."
   ]
  },
  {
   "cell_type": "code",
   "execution_count": 4,
   "metadata": {},
   "outputs": [
    {
     "data": {
      "text/latex": [
       "$\\displaystyle A: \\phi \\in \\mathbb{R}$"
      ],
      "text/plain": [
       "<IPython.core.display.Math object>"
      ]
     },
     "metadata": {},
     "output_type": "display_data"
    },
    {
     "data": {
      "text/latex": [
       "$\\displaystyle B: \\phi \\in \\mathbb{R}$"
      ],
      "text/plain": [
       "<IPython.core.display.Math object>"
      ]
     },
     "metadata": {},
     "output_type": "display_data"
    },
    {
     "data": {
      "text/latex": [
       "$\\displaystyle V: \\phi \\in \\mathbb{R}$"
      ],
      "text/plain": [
       "<IPython.core.display.Math object>"
      ]
     },
     "metadata": {},
     "output_type": "display_data"
    },
    {
     "data": {
      "text/latex": [
       "$\\displaystyle F: \\phi \\in \\mathbb{R}$"
      ],
      "text/plain": [
       "<IPython.core.display.Math object>"
      ]
     },
     "metadata": {},
     "output_type": "display_data"
    },
    {
     "data": {
      "text/latex": [
       "$\\displaystyle \\epsilon: \\left(-\\infty, 0\\right) \\cup \\left(0, \\infty\\right)$"
      ],
      "text/plain": [
       "<IPython.core.display.Math object>"
      ]
     },
     "metadata": {},
     "output_type": "display_data"
    },
    {
     "data": {
      "text/latex": [
       "$\\displaystyle \\eta: \\left(-\\infty, 0\\right) \\cup \\left(0, \\infty\\right)$"
      ],
      "text/plain": [
       "<IPython.core.display.Math object>"
      ]
     },
     "metadata": {},
     "output_type": "display_data"
    },
    {
     "data": {
      "text/latex": [
       "$\\displaystyle \\text{Intersection}: \\left(-\\infty, 0\\right) \\cup \\left(0, \\infty\\right)$"
      ],
      "text/plain": [
       "<IPython.core.display.Math object>"
      ]
     },
     "metadata": {},
     "output_type": "display_data"
    }
   ],
   "source": [
    "model.inspect();"
   ]
  },
  {
   "cell_type": "markdown",
   "metadata": {},
   "source": [
    "# Replace parameters in model\n",
    "\n",
    "By default inflationpy uses following symbols (in square brackest assumptions for sympy symbol):\n",
    "* $\\phi$ (phi)  - default symbol for scalar field [real=True]\n",
    "* $I_\\phi$ (I_phi)  - default symbol for invariant scalar field [real=True]\n",
    "* $M_p$ (M_p) - default symbol for Planck's mass [real=True, positive=True]\n",
    "* $N$ (N) - symbol for N-fold (not possible to change) [real=True, positive=True]\n",
    "* $I_V$ (I_V) - symbol for invariant potential (not possible to change) [real=True]\n",
    "\n",
    "(Invariant) Scalar field symbol can be changed only when defining InflationFunction.\n",
    "\n",
    "Planck's mass symbol can be changed any time.\n",
    "\n",
    "Other predefined symbols can't be changed."
   ]
  },
  {
   "cell_type": "markdown",
   "metadata": {},
   "source": [
    "## Replace symbols with other symbol or numerical value"
   ]
  },
  {
   "cell_type": "code",
   "execution_count": 5,
   "metadata": {},
   "outputs": [
    {
     "name": "stdout",
     "output_type": "stream",
     "text": [
      "Current model's Planck's mass symbol/value: M_p\n"
     ]
    },
    {
     "data": {
      "text/latex": [
       "$\\displaystyle M_{p}$"
      ],
      "text/plain": [
       "M_p"
      ]
     },
     "metadata": {},
     "output_type": "display_data"
    },
    {
     "name": "stdout",
     "output_type": "stream",
     "text": [
      "Current parameter p symbol/value: p\n"
     ]
    },
    {
     "data": {
      "text/latex": [
       "$\\displaystyle p$"
      ],
      "text/plain": [
       "p"
      ]
     },
     "metadata": {},
     "output_type": "display_data"
    }
   ],
   "source": [
    "print(f\"Current model's Planck's mass symbol/value: {model.mp}\")\n",
    "display(model.mp)\n",
    "print(f\"Current parameter p symbol/value: {list(model.free_symbols()-{model.symbol, model.symbolI, model.mp})[0]}\")\n",
    "display(list(model.free_symbols()-{model.symbol, model.symbolI, model.mp})[0])"
   ]
  },
  {
   "cell_type": "markdown",
   "metadata": {},
   "source": [
    "Let's assign parameter p new symbol and value for M_p. To assign new symbol/value user must insert dictionary like that:\n",
    "```Python\n",
    "replacement_dictionary = {old_symbol: new_symbol, ...} # Can have multiple symbols to replace\n",
    "```\n",
    "\n",
    "old_symbol - can be string or Sp.Symbol type object. Program compares symbols which to change in string form.\n",
    "\n",
    "new_symbol - can be string or Sp.Symbol type object."
   ]
  },
  {
   "cell_type": "code",
   "execution_count": 6,
   "metadata": {},
   "outputs": [],
   "source": [
    "new_parameter_symbol = sp.Symbol('b', real=True, positive=True)\n",
    "# Change p -> b and let's change M_p to 1 so scalar field is now measuerd in Planck's masses.\n",
    "new_model = model({p:new_parameter_symbol, 'M_p': 1})"
   ]
  },
  {
   "cell_type": "code",
   "execution_count": 7,
   "metadata": {},
   "outputs": [
    {
     "data": {
      "text/latex": [
       "$A= 1 \\\\ B= 1 \\\\ V= \\phi^{b} \\\\ I_V= I_{\\phi}^{b}$"
      ],
      "text/plain": [
       "A= 1\n",
       "B= 1\n",
       "V= phi**b\n",
       "I_V= I_phi**b"
      ]
     },
     "execution_count": 7,
     "metadata": {},
     "output_type": "execute_result"
    }
   ],
   "source": [
    "new_model"
   ]
  },
  {
   "cell_type": "code",
   "execution_count": 8,
   "metadata": {},
   "outputs": [
    {
     "name": "stdout",
     "output_type": "stream",
     "text": [
      "Current model's Planck's mass symbol/value: 1\n"
     ]
    },
    {
     "data": {
      "text/latex": [
       "$\\displaystyle 1$"
      ],
      "text/plain": [
       "1"
      ]
     },
     "metadata": {},
     "output_type": "display_data"
    },
    {
     "name": "stdout",
     "output_type": "stream",
     "text": [
      "Current parameter p symbol/value: b\n"
     ]
    },
    {
     "data": {
      "text/latex": [
       "$\\displaystyle b$"
      ],
      "text/plain": [
       "b"
      ]
     },
     "metadata": {},
     "output_type": "display_data"
    }
   ],
   "source": [
    "print(f\"Current model's Planck's mass symbol/value: {new_model.mp}\")\n",
    "display(new_model.mp)\n",
    "print(f\"Current parameter p symbol/value: {list(new_model.free_symbols()-{new_model.symbol, new_model.symbolI, new_model.mp})[0]}\")\n",
    "display(list(new_model.free_symbols()-{new_model.symbol, new_model.symbolI, new_model.mp})[0])"
   ]
  },
  {
   "cell_type": "markdown",
   "metadata": {},
   "source": [
    "It is also possible to use longer notation as well. Let's define all free parameters."
   ]
  },
  {
   "cell_type": "code",
   "execution_count": 9,
   "metadata": {},
   "outputs": [
    {
     "data": {
      "text/latex": [
       "$A= 1 \\\\ B= 1 \\\\ V= \\phi^{2} \\\\ I_V= I_{\\phi}^{2}$"
      ],
      "text/plain": [
       "A= 1\n",
       "B= 1\n",
       "V= phi**2\n",
       "I_V= I_phi**2"
      ]
     },
     "execution_count": 9,
     "metadata": {},
     "output_type": "execute_result"
    }
   ],
   "source": [
    "new_model = model.insert_parameters({p: 2, M_p:1})\n",
    "new_model"
   ]
  },
  {
   "cell_type": "markdown",
   "metadata": {},
   "source": [
    "# Inflation end value"
   ]
  },
  {
   "cell_type": "markdown",
   "metadata": {},
   "source": [
    "It is possible to do analytical and numerical solving.\n",
    "\n",
    "Analytical solving uses sympy package which has it's own limits. This means that in some cases it can't solve equations or integrate. \n",
    "\n",
    "Numerical solving uses numpy/scipy or mpmath (for higher precision). Using numpy/scipy is faster as it can use vectorization in some cases but it is less precise (in some cases important). Mpmath with high digital precision gets slower.\n",
    "\n",
    "SlowRollEndSolver takes in variable 'invariant' which determines if we use invariant potential for calculations. By default invariant=False."
   ]
  },
  {
   "cell_type": "code",
   "execution_count": 10,
   "metadata": {},
   "outputs": [],
   "source": [
    "# Define solver and insert InflationModel or InflationFunction of epsilon function (latter is already defined in InflationModel).\n",
    "end_solver = SlowRollEndSolver(model, invariant=False)"
   ]
  },
  {
   "cell_type": "markdown",
   "metadata": {},
   "source": [
    "#### Analytical solving"
   ]
  },
  {
   "cell_type": "markdown",
   "metadata": {},
   "source": [
    "Sympy has two ways to solve analytical functions. One is called 'solveset' and other is 'solve'. By default it uses 'solve' as in current state it is more powerful. Results are returned in a list.\n",
    "\n",
    "NB! Returned values in list are sp.Expr. These don't behave like InflationFunction but can be easily converted to one.\n",
    "\n",
    "To substitute symbols use sp.subs(...) function.subs(...)\n",
    "To define to numerical function use sp.lambdify(...)\n",
    "More about that in https://docs.sympy.org/latest/index.html."
   ]
  },
  {
   "cell_type": "code",
   "execution_count": 11,
   "metadata": {},
   "outputs": [
    {
     "name": "stdout",
     "output_type": "stream",
     "text": [
      "Result functions for end value: [-sqrt(2)*M_p*p/2, sqrt(2)*M_p*p/2]\n"
     ]
    }
   ],
   "source": [
    "# Calculate solutions for possible scalar field end values\n",
    "sym_solutions_for_end = end_solver.solve(method='solve')\n",
    "# Print solutions\n",
    "print(\"Result functions for end value:\", sym_solutions_for_end)"
   ]
  },
  {
   "cell_type": "markdown",
   "metadata": {},
   "source": [
    "#### Numerical solving"
   ]
  },
  {
   "cell_type": "markdown",
   "metadata": {},
   "source": [
    "Currently we initialized SlowRollEndSolver with 'model' which has two free parameters (p and M_p). To calculate numerically these must be defined. It is possible to define SlowRollModel where these parameters have numerical values otherwise user must give parameter values when calculating."
   ]
  },
  {
   "cell_type": "code",
   "execution_count": 12,
   "metadata": {},
   "outputs": [
    {
     "name": "stdout",
     "output_type": "stream",
     "text": [
      "[-1.41421356  1.41421356]\n",
      "[mpf('1.414213562373095'), mpf('-1.414213562373095')]\n"
     ]
    }
   ],
   "source": [
    "# Calculate solutions for possible scalar field end values: numpy\n",
    "num_solutions_for_end_np = end_solver.nsolve_np(interval=[-2, 2], params={'p':2, 'M_p':1})\n",
    "print(num_solutions_for_end_np)\n",
    "# Calculate solutions for possible scalar field end values: mpmath\n",
    "num_solutions_for_end_mp = end_solver.nsolve_mp(interval=[-2, 2], params={'p':2, M_p:1}, mp_kwargs={'N_points':100000})\n",
    "print(num_solutions_for_end_mp)\n"
   ]
  },
  {
   "cell_type": "markdown",
   "metadata": {},
   "source": [
    "### Increase mpmath accuracy from 15 to 30"
   ]
  },
  {
   "cell_type": "code",
   "execution_count": 13,
   "metadata": {},
   "outputs": [
    {
     "name": "stdout",
     "output_type": "stream",
     "text": [
      "Current mpmath accuracy: 15\n",
      "New mpmath accuracy: 30\n"
     ]
    }
   ],
   "source": [
    "print(f\"Current mpmath accuracy: {mp.mp.dps}\")\n",
    "mp.mp.dps = 30\n",
    "print(f\"New mpmath accuracy: {mp.mp.dps}\")"
   ]
  },
  {
   "cell_type": "code",
   "execution_count": 14,
   "metadata": {},
   "outputs": [
    {
     "name": "stdout",
     "output_type": "stream",
     "text": [
      "[mpf('-1.4142135623730950488016887242097'), mpf('1.4142135623730950488016887242097')]\n"
     ]
    }
   ],
   "source": [
    "num_solutions_for_end_mp_dps30 = end_solver.nsolve_mp(interval=[-2, 2], params={'p':2, M_p:1})\n",
    "print(num_solutions_for_end_mp_dps30)\n"
   ]
  },
  {
   "cell_type": "markdown",
   "metadata": {},
   "source": [
    "# Inflation initial value"
   ]
  },
  {
   "cell_type": "markdown",
   "metadata": {},
   "source": [
    "To calculate (invariant) scalar field initial value we use SlowRollStartSolver. This returns function of $\\phi(N)$ which gives scalar field initial value for given N-fold value. To calculate this function we need to know (invariant) scalar field end value.\n",
    "\n",
    "SlowRollStartSolver takes in variable 'invariant' which determines if we use invariant potential for calculations. By default invariant=False."
   ]
  },
  {
   "cell_type": "code",
   "execution_count": 15,
   "metadata": {},
   "outputs": [],
   "source": [
    "# Define solver and insert InflationModel or InflationFunction of epsilon function (latter is already defined in InflationModel).\n",
    "initial_solver = SlowRollStartSolver(model)"
   ]
  },
  {
   "cell_type": "markdown",
   "metadata": {},
   "source": [
    "#### Analytical solving\n",
    "\n",
    "NB! Returned values in list are sp.Expr. These don't behave like InflationFunction but can be easily converted to one.\n",
    "\n",
    "To substitute symbols use sp.subs(...) function.subs(...)\n",
    "To define to numerical function use sp.lambdify(...)\n",
    "More about that in https://docs.sympy.org/latest/index.html."
   ]
  },
  {
   "cell_type": "code",
   "execution_count": 16,
   "metadata": {},
   "outputs": [
    {
     "name": "stdout",
     "output_type": "stream",
     "text": [
      "Result functions for initial value: [-sqrt(2)*M_p*sqrt(p)*sqrt(4*N + p)/2, sqrt(2)*M_p*sqrt(p)*sqrt(4*N + p)/2]\n"
     ]
    }
   ],
   "source": [
    "# Calculate solutions for possible scalar field end values\n",
    "# Give end value calculated previously\n",
    "sym_solutions_for_start = initial_solver.solve(end_value=sym_solutions_for_end[1])\n",
    "# Print solutions\n",
    "print(\"Result functions for initial value:\", sym_solutions_for_start)"
   ]
  },
  {
   "cell_type": "code",
   "execution_count": 17,
   "metadata": {},
   "outputs": [
    {
     "data": {
      "text/latex": [
       "$\\displaystyle \\frac{\\sqrt{2} M_{p} \\sqrt{p} \\sqrt{4 N + p}}{2}$"
      ],
      "text/plain": [
       "sqrt(2)*M_p*sqrt(p)*sqrt(4*N + p)/2"
      ]
     },
     "execution_count": 17,
     "metadata": {},
     "output_type": "execute_result"
    }
   ],
   "source": [
    "sym_solutions_for_start[1]"
   ]
  },
  {
   "cell_type": "markdown",
   "metadata": {},
   "source": [
    "#### Numerical solving"
   ]
  },
  {
   "cell_type": "markdown",
   "metadata": {},
   "source": [
    "To calculate numerically user can give maximum N-fold value (default 100). This way differential equation is solved where $\\phi_\\text{initial} = \\phi_{\\text{end}}$ sets N=0 and we solve dif. equation till N_max. Numpy and mpmath methods both return python function which takes in N-fold value.\n"
   ]
  },
  {
   "cell_type": "code",
   "execution_count": 18,
   "metadata": {},
   "outputs": [
    {
     "name": "stdout",
     "output_type": "stream",
     "text": [
      "Scalar field value at N=50: [14.22655573]\n",
      "Scalar field value at N=50: -14.2126704035518954969709298929\n"
     ]
    }
   ],
   "source": [
    "# Calculate solutions for possible scalar field start values: numpy\n",
    "\n",
    "# Let's use end_value from analytical calculation. First we must substitute free parameters:\n",
    "end_value_subs = sym_solutions_for_end[1].subs({M_p:1, p:2})\n",
    "num_solutions_for_start_np = initial_solver.nsolve_np(end_value=end_value_subs, N_max=100, params={\"M_p\":1, 'p':2})\n",
    "print(f\"Scalar field value at N=50: {num_solutions_for_start_np(50)}\")\n",
    "# Calculate solutions for possible scalar field start values: mpmath\n",
    "num_solutions_for_start_mp = initial_solver.nsolve_mp(num_solutions_for_end_mp[-1], params={\"M_p\":1, 'p':2})\n",
    "print(f\"Scalar field value at N=50: {num_solutions_for_start_mp(50)}\")\n"
   ]
  },
  {
   "cell_type": "markdown",
   "metadata": {},
   "source": [
    "From the results we can see discrepancy between scipy and mpmath solutions in the 4th decimal place. In some cases this might have relevantly big effect on further calculations.\n",
    "\n",
    "Reason for this discrepancy comes from solving numerically differential equation and mpmath can do it more precisely."
   ]
  },
  {
   "cell_type": "markdown",
   "metadata": {},
   "source": [
    "# Observational values"
   ]
  },
  {
   "cell_type": "markdown",
   "metadata": {},
   "source": [
    "To calculate observational values scalar spectral index ($n_s$) and tensor-to-scalar ration ($r$) both analytical and numrical solutions can be used.\n",
    "\n",
    "There are three possible modes:\n",
    "\n",
    "    sympy - Result is return in analytical form. Not required to define free variables.\n",
    "    numpy - Result is return in numpy array. All free variables must be defined. (default)\n",
    "    mpmath - Result is return in numpy array. All free variables must be defined. More accurate than numpy."
   ]
  },
  {
   "cell_type": "code",
   "execution_count": 19,
   "metadata": {},
   "outputs": [
    {
     "data": {
      "text/latex": [
       "$\\displaystyle \\frac{97}{101}$"
      ],
      "text/plain": [
       "97/101"
      ]
     },
     "execution_count": 19,
     "metadata": {},
     "output_type": "execute_result"
    }
   ],
   "source": [
    "# mode = sympy and result is returned as sympy expression. This returns n_s(N) function\n",
    "model.calculate_ns(scalar_value=sym_solutions_for_start[1], params={\"p\":2, \"M_p\":1, \"N\":50})"
   ]
  },
  {
   "cell_type": "code",
   "execution_count": 20,
   "metadata": {},
   "outputs": [
    {
     "data": {
      "text/latex": [
       "$\\displaystyle - \\frac{6 p}{4 N + p} + 1 + \\frac{4 \\left(p - 1\\right)}{4 N + p}$"
      ],
      "text/plain": [
       "-6*p/(4*N + p) + 1 + 4*(p - 1)/(4*N + p)"
      ]
     },
     "execution_count": 20,
     "metadata": {},
     "output_type": "execute_result"
    }
   ],
   "source": [
    "# mode = sympy and result is returned as sympy expression. This returns  n_s(N) function where N=50\n",
    "model.calculate_ns(scalar_value=sym_solutions_for_start[1])"
   ]
  },
  {
   "cell_type": "code",
   "execution_count": 21,
   "metadata": {},
   "outputs": [
    {
     "name": "stdout",
     "output_type": "stream",
     "text": [
      "Analytical: r = 16/201\n"
     ]
    }
   ],
   "source": [
    "# p = Sp.Symbol('p', real=True) -  where real=True must be added.\n",
    "print(f\"Analytical: r = {model.calculate_r(scalar_value=sym_solutions_for_start[1], params={'p':1, 'N':50, 'M_p':1})}\")"
   ]
  },
  {
   "cell_type": "code",
   "execution_count": 22,
   "metadata": {},
   "outputs": [
    {
     "name": "stdout",
     "output_type": "stream",
     "text": [
      "[0.15810676]\n"
     ]
    },
    {
     "data": {
      "text/plain": [
       "array([[0.15810676],\n",
       "       [0.14387387],\n",
       "       [0.13199108]])"
      ]
     },
     "execution_count": 22,
     "metadata": {},
     "output_type": "execute_result"
    }
   ],
   "source": [
    "# numpy\n",
    "# Insert single value to calcualte scalar spectral index\n",
    "observational_ns_numpy = model.calculate_r_np(scalar_value=num_solutions_for_start_np(50), params={\"M_p\":1, \"p\":2})\n",
    "print(observational_ns_numpy)\n",
    "# It is also possible to insert list/array of values to calculate for all scalar field values\n",
    "model.calculate_r_np(scalar_value=[num_solutions_for_start_np(x) for x in [50, 55, 60]], params={\"M_p\":1, \"p\":2})"
   ]
  },
  {
   "cell_type": "code",
   "execution_count": 23,
   "metadata": {},
   "outputs": [
    {
     "name": "stdout",
     "output_type": "stream",
     "text": [
      "[mpf('0.158106760141315156566583428293279')]\n"
     ]
    },
    {
     "data": {
      "text/plain": [
       "[mpf('0.158106760141315151767157664500717'),\n",
       " mpf('0.143873870595566747262973245031731'),\n",
       " mpf('0.131991081009343255816581453007799')]"
      ]
     },
     "execution_count": 23,
     "metadata": {},
     "output_type": "execute_result"
    }
   ],
   "source": [
    "# mode = numpy\n",
    "# Insert single value to calcualte tensor-to-scalar ratio\n",
    "observational_r_mpmath = model.calculate_r_mp(scalar_value=num_solutions_for_start_np(50), params={\"M_p\":1, \"p\":2})\n",
    "print(observational_r_mpmath)\n",
    "# It is also possible to insert list/array of values to calculate for all scalar field values\n",
    "model.calculate_r_mp(scalar_value=[str(num_solutions_for_start_np(x)[-1]) for x in [50, 55, 60]], params={\"M_p\":1, \"p\":2})"
   ]
  }
 ],
 "metadata": {
  "interpreter": {
   "hash": "726da861d6979e270a7c3bba3df6b48d2f051a2431207b1427b050afc1f83a8f"
  },
  "kernelspec": {
   "display_name": "Python 3 (ipykernel)",
   "language": "python",
   "name": "python3"
  },
  "language_info": {
   "codemirror_mode": {
    "name": "ipython",
    "version": 3
   },
   "file_extension": ".py",
   "mimetype": "text/x-python",
   "name": "python",
   "nbconvert_exporter": "python",
   "pygments_lexer": "ipython3",
   "version": "3.9.7"
  }
 },
 "nbformat": 4,
 "nbformat_minor": 2
}
