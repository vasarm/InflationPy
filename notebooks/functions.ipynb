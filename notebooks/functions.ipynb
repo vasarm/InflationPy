{
 "cells": [
  {
   "cell_type": "code",
   "execution_count": 1,
   "metadata": {},
   "outputs": [],
   "source": [
    "from inflationpy.core.functions import InflationFunction\n",
    "\n",
    "import sympy as sp\n",
    "\n",
    "from IPython.display import display"
   ]
  },
  {
   "cell_type": "markdown",
   "metadata": {},
   "source": [
    "# InflationFunction\n",
    "\n",
    "InflationFunction is a generalization for analytical function. To initialize InflationFunction some analytical function must be inserted. Also if scalar field symbol or Planck's mass symbol is diffrent then the default symbols then these must be inserted as well.\n",
    "\n",
    "Default value for scalar field is 'phi' ($\\phi$) and for Planck's mass 'M_p' ($M_p$). "
   ]
  },
  {
   "cell_type": "code",
   "execution_count": 2,
   "metadata": {},
   "outputs": [
    {
     "data": {
      "text/latex": [
       "$2 \\phi + 2$"
      ],
      "text/plain": [
       "2*phi + 2"
      ]
     },
     "execution_count": 2,
     "metadata": {},
     "output_type": "execute_result"
    }
   ],
   "source": [
    "function1 = InflationFunction(\"2*phi + 2\")\n",
    "function1"
   ]
  },
  {
   "cell_type": "markdown",
   "metadata": {},
   "source": [
    "Although function can be initialized only using string and using sympy in-built method to convert it into sympy expression (sp.sympify) it is advised to initialize InflationFunction with sympy Symbols becuase converting from string misintreprets some letters.\n",
    "\n",
    "List of letters/symbols which can't be used if initializing from string:\n",
    "* E, I, N, O, Q, S, beta, gamma, lambda, zeta, pi, Lambda, Chi\n",
    "\n",
    "When creating symbols, flag real=True should be included as well."
   ]
  },
  {
   "cell_type": "code",
   "execution_count": 3,
   "metadata": {},
   "outputs": [
    {
     "data": {
      "text/latex": [
       "$\\phi^{2} + \\frac{p}{\\gamma}$"
      ],
      "text/plain": [
       "phi**2 + p/gamma"
      ]
     },
     "execution_count": 3,
     "metadata": {},
     "output_type": "execute_result"
    }
   ],
   "source": [
    "phi = sp.Symbol('phi', real=True)\n",
    "p, gamma = sp.symbols('p gamma', real=True)\n",
    "sympy_function2 = phi**2 + p/gamma\n",
    "function2 = InflationFunction(sympy_function2)\n",
    "function2"
   ]
  },
  {
   "cell_type": "markdown",
   "metadata": {},
   "source": [
    "Example if using other symbol for scalar field"
   ]
  },
  {
   "cell_type": "code",
   "execution_count": 4,
   "metadata": {},
   "outputs": [
    {
     "data": {
      "text/latex": [
       "$\\gamma^{p}$"
      ],
      "text/plain": [
       "gamma**p"
      ]
     },
     "execution_count": 4,
     "metadata": {},
     "output_type": "execute_result"
    }
   ],
   "source": [
    "# gamma is now scalar field\n",
    "function3 = InflationFunction(function=gamma**p, symbol=gamma)\n",
    "function3"
   ]
  },
  {
   "cell_type": "markdown",
   "metadata": {},
   "source": [
    "# Arithmetics\n",
    "It is possible to do simple arithmetics with InflationFunctions. This means it can be added, substracted, multiplied, divided, powered with other InflationFunctions, numbers or sympy expressions.\n",
    "\n",
    "If arithmetics is done between two InflationFunctions then they both must have same scalar field and Planck's mass symbols."
   ]
  },
  {
   "cell_type": "code",
   "execution_count": 5,
   "metadata": {},
   "outputs": [
    {
     "data": {
      "text/latex": [
       "$\\phi^{2} + 2 \\phi + 2 + \\frac{p}{\\gamma}$"
      ],
      "text/plain": [
       "phi**2 + 2*phi + 2 + p/gamma"
      ]
     },
     "metadata": {},
     "output_type": "display_data"
    },
    {
     "data": {
      "text/latex": [
       "$\\left(2 \\phi + 2\\right) \\left(\\phi^{2} + \\frac{p}{\\gamma}\\right)$"
      ],
      "text/plain": [
       "(2*phi + 2)*(phi**2 + p/gamma)"
      ]
     },
     "metadata": {},
     "output_type": "display_data"
    }
   ],
   "source": [
    "display(function1 + function2)\n",
    "display(function1 * function2)"
   ]
  },
  {
   "cell_type": "markdown",
   "metadata": {},
   "source": [
    "But for example this is not allowed as they have different scalar field symbols."
   ]
  },
  {
   "cell_type": "code",
   "execution_count": 6,
   "metadata": {},
   "outputs": [
    {
     "ename": "ValueError",
     "evalue": "Both function scalar field symbols must be the same. ((phi, gamma))",
     "output_type": "error",
     "traceback": [
      "\u001b[1;31m---------------------------------------------------------------------------\u001b[0m",
      "\u001b[1;31mValueError\u001b[0m                                Traceback (most recent call last)",
      "\u001b[1;32m~\\AppData\\Local\\Temp/ipykernel_18652/2477306370.py\u001b[0m in \u001b[0;36m<module>\u001b[1;34m\u001b[0m\n\u001b[1;32m----> 1\u001b[1;33m \u001b[0mfunction1\u001b[0m \u001b[1;33m+\u001b[0m \u001b[0mfunction3\u001b[0m\u001b[1;33m\u001b[0m\u001b[1;33m\u001b[0m\u001b[0m\n\u001b[0m",
      "\u001b[1;32mc:\\users\\vasar\\code\\inflationpy\\inflationpy\\core\\functions.py\u001b[0m in \u001b[0;36m__add__\u001b[1;34m(self, other_function)\u001b[0m\n\u001b[0;32m    552\u001b[0m                     )\n\u001b[0;32m    553\u001b[0m                 \u001b[1;32melse\u001b[0m\u001b[1;33m:\u001b[0m\u001b[1;33m\u001b[0m\u001b[1;33m\u001b[0m\u001b[0m\n\u001b[1;32m--> 554\u001b[1;33m                     raise ValueError(\n\u001b[0m\u001b[0;32m    555\u001b[0m                         \u001b[1;34mf\"Both function scalar field symbols must be the same. ({self.symbol, other_function.symbol})\"\u001b[0m\u001b[1;33m\u001b[0m\u001b[1;33m\u001b[0m\u001b[0m\n\u001b[0;32m    556\u001b[0m                     )\n",
      "\u001b[1;31mValueError\u001b[0m: Both function scalar field symbols must be the same. ((phi, gamma))"
     ]
    }
   ],
   "source": [
    "function1 + function3"
   ]
  },
  {
   "cell_type": "markdown",
   "metadata": {},
   "source": [
    "Or this, as they have different symbols for Planck's mass"
   ]
  },
  {
   "cell_type": "code",
   "execution_count": null,
   "metadata": {},
   "outputs": [
    {
     "ename": "ValueError",
     "evalue": "Both function Planck's mass symbols must be the same. ((M_p, kappa))",
     "output_type": "error",
     "traceback": [
      "\u001b[1;31m---------------------------------------------------------------------------\u001b[0m",
      "\u001b[1;31mValueError\u001b[0m                                Traceback (most recent call last)",
      "\u001b[1;32m~\\AppData\\Local\\Temp/ipykernel_13500/2394975572.py\u001b[0m in \u001b[0;36m<module>\u001b[1;34m\u001b[0m\n\u001b[0;32m      1\u001b[0m \u001b[0mfunction4\u001b[0m \u001b[1;33m=\u001b[0m \u001b[0mInflationFunction\u001b[0m\u001b[1;33m(\u001b[0m\u001b[0mphi\u001b[0m\u001b[1;33m**\u001b[0m\u001b[1;36m2\u001b[0m\u001b[1;33m,\u001b[0m \u001b[0mmp\u001b[0m\u001b[1;33m=\u001b[0m\u001b[0msp\u001b[0m\u001b[1;33m.\u001b[0m\u001b[0mSymbol\u001b[0m\u001b[1;33m(\u001b[0m\u001b[1;34m'kappa'\u001b[0m\u001b[1;33m)\u001b[0m\u001b[1;33m)\u001b[0m\u001b[1;33m\u001b[0m\u001b[1;33m\u001b[0m\u001b[0m\n\u001b[1;32m----> 2\u001b[1;33m \u001b[0mfunction1\u001b[0m \u001b[1;33m+\u001b[0m \u001b[0mfunction4\u001b[0m\u001b[1;33m\u001b[0m\u001b[1;33m\u001b[0m\u001b[0m\n\u001b[0m",
      "\u001b[1;32mc:\\users\\vasar\\code\\inflationpy\\inflationpy\\core\\functions.py\u001b[0m in \u001b[0;36m__add__\u001b[1;34m(self, other_function)\u001b[0m\n\u001b[0;32m    548\u001b[0m                     )\n\u001b[0;32m    549\u001b[0m                 \u001b[1;32melif\u001b[0m \u001b[0mself\u001b[0m\u001b[1;33m.\u001b[0m\u001b[0mmp\u001b[0m \u001b[1;33m!=\u001b[0m \u001b[0mother_function\u001b[0m\u001b[1;33m.\u001b[0m\u001b[0mmp\u001b[0m\u001b[1;33m:\u001b[0m\u001b[1;33m\u001b[0m\u001b[1;33m\u001b[0m\u001b[0m\n\u001b[1;32m--> 550\u001b[1;33m                     raise ValueError(\n\u001b[0m\u001b[0;32m    551\u001b[0m                         \u001b[1;34mf\"Both function Planck's mass symbols must be the same. ({self.mp, other_function.mp})\"\u001b[0m\u001b[1;33m\u001b[0m\u001b[1;33m\u001b[0m\u001b[0m\n\u001b[0;32m    552\u001b[0m                     )\n",
      "\u001b[1;31mValueError\u001b[0m: Both function Planck's mass symbols must be the same. ((M_p, kappa))"
     ]
    }
   ],
   "source": [
    "function4 = InflationFunction(phi**2, mp=sp.Symbol('kappa'))\n",
    "function1 + function4"
   ]
  },
  {
   "cell_type": "markdown",
   "metadata": {},
   "source": [
    "# More\n",
    "\n",
    "InflationFunction has also simplified syntax for solving equations and to integrate function. Also it is possible to find derivatives. The syntax is similar to sympy module.\n",
    "\n",
    "```\n",
    "Requires more explanations\n",
    "```\n",
    "\n",
    "Important is that result is not InflationFunction but sympy expression."
   ]
  },
  {
   "cell_type": "code",
   "execution_count": null,
   "metadata": {},
   "outputs": [
    {
     "data": {
      "text/plain": [
       "'Function: 2*phi + 2'"
      ]
     },
     "metadata": {},
     "output_type": "display_data"
    },
    {
     "data": {
      "text/plain": [
       "'Derivative: 2'"
      ]
     },
     "metadata": {},
     "output_type": "display_data"
    },
    {
     "data": {
      "text/plain": [
       "\"Type: <class 'sympy.core.numbers.Integer'>\""
      ]
     },
     "metadata": {},
     "output_type": "display_data"
    },
    {
     "data": {
      "text/plain": [
       "'Is sp.Expr type: True'"
      ]
     },
     "metadata": {},
     "output_type": "display_data"
    }
   ],
   "source": [
    "display(f\"Function: {function1}\")\n",
    "display(f\"Derivative: {function1.fd_s()}\")\n",
    "display(f\"Type: {type(function1.fd_s())}\")\n",
    "display(f\"Is sp.Expr type: {isinstance(function1.fd_s(), sp.Expr)}\")"
   ]
  },
  {
   "cell_type": "code",
   "execution_count": null,
   "metadata": {},
   "outputs": [
    {
     "data": {
      "text/latex": [
       "$\\displaystyle \\frac{\\phi^{2}}{2}$"
      ],
      "text/plain": [
       "phi**2/2"
      ]
     },
     "metadata": {},
     "output_type": "display_data"
    },
    {
     "data": {
      "text/plain": [
       "[-1]"
      ]
     },
     "metadata": {},
     "output_type": "display_data"
    }
   ],
   "source": [
    "display(function1.integrate(phi))\n",
    "display(function1.solve(phi))"
   ]
  },
  {
   "cell_type": "markdown",
   "metadata": {},
   "source": [
    "# Example\n",
    "\n",
    "Let's define some scalar field potential"
   ]
  },
  {
   "cell_type": "code",
   "execution_count": null,
   "metadata": {},
   "outputs": [
    {
     "data": {
      "text/latex": [
       "$\\left(\\frac{\\phi}{M_{p}}\\right)^{p}$"
      ],
      "text/plain": [
       "(phi/M_p)**p"
      ]
     },
     "execution_count": 20,
     "metadata": {},
     "output_type": "execute_result"
    }
   ],
   "source": [
    "phi = sp.Symbol('phi', real=True)\n",
    "p, M_p = sp.symbols('p M_p', real=True)\n",
    "V = InflationFunction((phi/M_p)**p)\n",
    "V"
   ]
  },
  {
   "cell_type": "markdown",
   "metadata": {},
   "source": [
    "We can get easily first and second derivatives for the potential:"
   ]
  },
  {
   "cell_type": "code",
   "execution_count": null,
   "metadata": {},
   "outputs": [
    {
     "data": {
      "text/latex": [
       "$\\displaystyle \\frac{p \\left(\\frac{\\phi}{M_{p}}\\right)^{p}}{\\phi}$"
      ],
      "text/plain": [
       "p*(phi/M_p)**p/phi"
      ]
     },
     "metadata": {},
     "output_type": "display_data"
    }
   ],
   "source": [
    "display(V.fd_s())"
   ]
  },
  {
   "cell_type": "code",
   "execution_count": null,
   "metadata": {},
   "outputs": [
    {
     "data": {
      "text/latex": [
       "$\\displaystyle \\frac{p \\left(\\frac{\\phi}{M_{p}}\\right)^{p} \\left(p - 1\\right)}{\\phi^{2}}$"
      ],
      "text/plain": [
       "p*(phi/M_p)**p*(p - 1)/phi**2"
      ]
     },
     "metadata": {},
     "output_type": "display_data"
    }
   ],
   "source": [
    "display(V.f2d_s())"
   ]
  }
 ],
 "metadata": {
  "interpreter": {
   "hash": "726da861d6979e270a7c3bba3df6b48d2f051a2431207b1427b050afc1f83a8f"
  },
  "kernelspec": {
   "display_name": "Python 3.9.7 ('inflationpy')",
   "language": "python",
   "name": "python3"
  },
  "language_info": {
   "codemirror_mode": {
    "name": "ipython",
    "version": 3
   },
   "file_extension": ".py",
   "mimetype": "text/x-python",
   "name": "python",
   "nbconvert_exporter": "python",
   "pygments_lexer": "ipython3",
   "version": "3.9.7"
  }
 },
 "nbformat": 4,
 "nbformat_minor": 2
}
