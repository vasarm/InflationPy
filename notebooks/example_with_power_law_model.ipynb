{
 "cells": [
  {
   "cell_type": "code",
   "execution_count": 1,
   "metadata": {},
   "outputs": [],
   "source": [
    "# Import sympy for symbolic calculations\n",
    "\n",
    "import mpmath as mp\n",
    "\n",
    "import sympy as sp\n",
    "\n",
    "# Import InflationPy package\n",
    "\n",
    "from inflationpy import SlowRollModel, SlowRollEndSolver, SlowRollStartSolver\n",
    "\n",
    "from IPython.display import display, Math, Latex"
   ]
  },
  {
   "cell_type": "code",
   "execution_count": 2,
   "metadata": {},
   "outputs": [],
   "source": [
    "phi, Iphi = sp.symbols(\"phi I_phi\", real=True)\n",
    "p, N, M_p = sp.symbols('p N M_p', real=True, positive=True)\n",
    "A = '1'\n",
    "B = '1'\n",
    "V = (phi/M_p)**p\n",
    "I_V = (Iphi/M_p)**p"
   ]
  },
  {
   "cell_type": "markdown",
   "metadata": {},
   "source": [
    "# Using power law potential"
   ]
  },
  {
   "cell_type": "code",
   "execution_count": 73,
   "metadata": {},
   "outputs": [],
   "source": [
    "model = SlowRollModel(A=A, B=B, V=V, I_V=I_V, palatini=False)\n"
   ]
  },
  {
   "cell_type": "code",
   "execution_count": 74,
   "metadata": {},
   "outputs": [
    {
     "data": {
      "text/latex": [
       "$\\displaystyle A: \\phi \\in \\mathbb{R}$"
      ],
      "text/plain": [
       "<IPython.core.display.Math object>"
      ]
     },
     "metadata": {},
     "output_type": "display_data"
    },
    {
     "data": {
      "text/latex": [
       "$\\displaystyle B: \\phi \\in \\mathbb{R}$"
      ],
      "text/plain": [
       "<IPython.core.display.Math object>"
      ]
     },
     "metadata": {},
     "output_type": "display_data"
    },
    {
     "data": {
      "text/latex": [
       "$\\displaystyle V: \\phi \\in \\mathbb{R}$"
      ],
      "text/plain": [
       "<IPython.core.display.Math object>"
      ]
     },
     "metadata": {},
     "output_type": "display_data"
    },
    {
     "data": {
      "text/latex": [
       "$\\displaystyle F: \\phi \\in \\mathbb{R}$"
      ],
      "text/plain": [
       "<IPython.core.display.Math object>"
      ]
     },
     "metadata": {},
     "output_type": "display_data"
    },
    {
     "data": {
      "text/latex": [
       "$\\displaystyle \\epsilon: \\left(-\\infty, 0\\right) \\cup \\left(0, \\infty\\right)$"
      ],
      "text/plain": [
       "<IPython.core.display.Math object>"
      ]
     },
     "metadata": {},
     "output_type": "display_data"
    },
    {
     "data": {
      "text/latex": [
       "$\\displaystyle \\eta: \\left(-\\infty, 0\\right) \\cup \\left(0, \\infty\\right)$"
      ],
      "text/plain": [
       "<IPython.core.display.Math object>"
      ]
     },
     "metadata": {},
     "output_type": "display_data"
    },
    {
     "data": {
      "text/latex": [
       "$\\displaystyle \\text{Intersection}: \\left(-\\infty, 0\\right) \\cup \\left(0, \\infty\\right)$"
      ],
      "text/plain": [
       "<IPython.core.display.Math object>"
      ]
     },
     "metadata": {},
     "output_type": "display_data"
    },
    {
     "data": {
      "text/plain": [
       "(Reals,\n",
       " Reals,\n",
       " Reals,\n",
       " Reals,\n",
       " Union(Interval.open(-oo, 0), Interval.open(0, oo)),\n",
       " Union(Interval.open(-oo, 0), Interval.open(0, oo)))"
      ]
     },
     "execution_count": 74,
     "metadata": {},
     "output_type": "execute_result"
    }
   ],
   "source": [
    "model.inspect()"
   ]
  },
  {
   "cell_type": "markdown",
   "metadata": {},
   "source": [
    "# Analytic solving"
   ]
  },
  {
   "cell_type": "markdown",
   "metadata": {},
   "source": [
    "## End solver"
   ]
  },
  {
   "cell_type": "code",
   "execution_count": 75,
   "metadata": {},
   "outputs": [],
   "source": [
    "end_solver = SlowRollEndSolver(model=model)\n",
    "end_solver_invariant = SlowRollEndSolver(model=model, invariant=True)"
   ]
  },
  {
   "cell_type": "code",
   "execution_count": 76,
   "metadata": {},
   "outputs": [
    {
     "name": "stdout",
     "output_type": "stream",
     "text": [
      "Solutions for scalar field end value: [-sqrt(2)*M_p*p/2, sqrt(2)*M_p*p/2]\n",
      "Solutions for invariant scalar field end value: [-sqrt(2)*M_p*p/2, sqrt(2)*M_p*p/2]\n"
     ]
    }
   ],
   "source": [
    "end_value = end_solver.solve()\n",
    "print(\"Solutions for scalar field end value:\", end_value)\n",
    "end_value_invariant = end_solver_invariant.solve()\n",
    "print(\"Solutions for invariant scalar field end value:\", end_value_invariant)"
   ]
  },
  {
   "cell_type": "markdown",
   "metadata": {},
   "source": [
    "## Start solver"
   ]
  },
  {
   "cell_type": "code",
   "execution_count": 77,
   "metadata": {},
   "outputs": [],
   "source": [
    "start_solver = SlowRollStartSolver(model=model)\n",
    "start_solver_invariant = SlowRollStartSolver(model=model, invariant=True)\n"
   ]
  },
  {
   "cell_type": "code",
   "execution_count": 78,
   "metadata": {},
   "outputs": [
    {
     "name": "stdout",
     "output_type": "stream",
     "text": [
      "Solutions for scalar field end value: [-sqrt(2)*M_p*sqrt(p)*sqrt(4*N + p)/2, sqrt(2)*M_p*sqrt(p)*sqrt(4*N + p)/2]\n",
      "Solutions for invariant scalar field end value: [-sqrt(2)*M_p*sqrt(p)*sqrt(4*N + p)/2, sqrt(2)*M_p*sqrt(p)*sqrt(4*N + p)/2]\n"
     ]
    }
   ],
   "source": [
    "initial_value = start_solver.solve(end_value=end_value[1])\n",
    "print(\"Solutions for scalar field end value:\", initial_value)\n",
    "initial_value_invariant = start_solver_invariant.solve(end_value=end_value_invariant[1])\n",
    "print(\"Solutions for invariant scalar field end value:\", initial_value_invariant)"
   ]
  },
  {
   "cell_type": "markdown",
   "metadata": {},
   "source": [
    "#### Let's calculate initial and end (invariant) scalar field values for N=50 and p=2, $M_p$ = 1."
   ]
  },
  {
   "cell_type": "code",
   "execution_count": 79,
   "metadata": {},
   "outputs": [
    {
     "data": {
      "text/latex": [
       "$\\displaystyle \\text{For scalar field}:$"
      ],
      "text/plain": [
       "<IPython.core.display.Math object>"
      ]
     },
     "metadata": {},
     "output_type": "display_data"
    },
    {
     "data": {
      "text/latex": [
       "$\\displaystyle \\text{Initial value: } \\sqrt{202} \\text{, End value: } \\sqrt{2}$"
      ],
      "text/plain": [
       "<IPython.core.display.Math object>"
      ]
     },
     "metadata": {},
     "output_type": "display_data"
    },
    {
     "data": {
      "text/latex": [
       "$\\displaystyle \\text{For invariant scalar field}:$"
      ],
      "text/plain": [
       "<IPython.core.display.Math object>"
      ]
     },
     "metadata": {},
     "output_type": "display_data"
    },
    {
     "data": {
      "text/latex": [
       "$\\displaystyle \\text{Initial value: } \\sqrt{202} \\text{, End value: } \\sqrt{2}$"
      ],
      "text/plain": [
       "<IPython.core.display.Math object>"
      ]
     },
     "metadata": {},
     "output_type": "display_data"
    }
   ],
   "source": [
    "parameters = {N:50, p:2, M_p:1}\n",
    "display(Math(\"\\\\text{For scalar field}:\"))\n",
    "display(Math(f'\\\\text{{Initial value: }} {sp.latex(initial_value[1].subs(parameters))} \\\\text{{, End value: }} {sp.latex(end_value[1].subs(parameters))}'))\n",
    "display(Math(\"\\\\text{For invariant scalar field}:\"))\n",
    "display(Math(f'\\\\text{{Initial value: }} {sp.latex(initial_value_invariant[1].subs(parameters))} \\\\text{{, End value: }} {sp.latex(end_value_invariant[1].subs(parameters))}'))"
   ]
  },
  {
   "cell_type": "markdown",
   "metadata": {},
   "source": [
    "# Numeric solve"
   ]
  },
  {
   "cell_type": "markdown",
   "metadata": {},
   "source": [
    "## End solver"
   ]
  },
  {
   "cell_type": "code",
   "execution_count": 80,
   "metadata": {},
   "outputs": [
    {
     "name": "stdout",
     "output_type": "stream",
     "text": [
      "Numpy: [-0.70710678  0.70710678] mpmath: [mpf('-0.70710678118654752'), mpf('0.70710678118654752')]\n",
      "Numpy: [-0.70710678  0.70710678] mpmath: [mpf('-0.70710678118654752'), mpf('0.70710678118654752')]\n"
     ]
    }
   ],
   "source": [
    "interval = [-5, 5]\n",
    "parameters = {'p':1, 'M_p': 1}\n",
    "\n",
    "end_value_np = end_solver.nsolve_np(interval, params=parameters)\n",
    "end_value_mp = end_solver.nsolve_mp(interval, params=parameters)\n",
    "print(\"Numpy:\", end_value_np, \"mpmath:\", end_value_mp)\n",
    "end_value_invariant_np = end_solver_invariant.nsolve_np(interval, params=parameters)\n",
    "end_value_invariant_mp = end_solver_invariant.nsolve_mp(interval, params=parameters)\n",
    "print(\"Numpy:\", end_value_invariant_np, \"mpmath:\", end_value_invariant_mp)"
   ]
  },
  {
   "cell_type": "markdown",
   "metadata": {},
   "source": [
    "## Start solver"
   ]
  },
  {
   "cell_type": "code",
   "execution_count": 81,
   "metadata": {},
   "outputs": [
    {
     "name": "stdout",
     "output_type": "stream",
     "text": [
      "Numpy: 15.523459124088543 mpmath: 15.5080624192708\n",
      "Numpy: 15.523459124088543 mpmath: 15.5080624192708\n"
     ]
    }
   ],
   "source": [
    "interval = [-10, 10]\n",
    "N_value = 60\n",
    "parameters = {'p':2, 'M_p': 1}\n",
    "\n",
    "initial_value_np_function = start_solver.nsolve_np(end_value_np[1], params=parameters)\n",
    "initial_value_mp_function = start_solver_invariant.nsolve_mp(end_value_mp[1], params=parameters)\n",
    "print(\"Numpy:\", initial_value_np_function(N_value), \"mpmath:\", initial_value_mp_function(N_value))\n",
    "initial_value_invariant_np_function = start_solver.nsolve_np(end_value_invariant_np[1], params=parameters)\n",
    "initial_value_invariant_mp_function = start_solver_invariant.nsolve_mp(end_value_invariant_mp[1], params=parameters)\n",
    "print(\"Numpy:\", initial_value_invariant_np_function(N_value), \"mpmath:\", initial_value_invariant_mp_function(N_value))"
   ]
  },
  {
   "cell_type": "markdown",
   "metadata": {},
   "source": [
    "# Observable values"
   ]
  },
  {
   "cell_type": "markdown",
   "metadata": {},
   "source": [
    "## $n_s$"
   ]
  },
  {
   "cell_type": "code",
   "execution_count": 82,
   "metadata": {},
   "outputs": [
    {
     "name": "stdout",
     "output_type": "stream",
     "text": [
      "n_s values\n",
      "Numpy: 0.966801918855251 mpmath: 0.966735966735967\n",
      "Numpy: 0.966801918855251 mpmath: 0.966735966735967\n",
      "r values\n",
      "Numpy: 0.13279232457899592 mpmath: 0.133056133056133\n",
      "Numpy: 0.13279232457899592 mpmath: 0.133056133056133\n"
     ]
    }
   ],
   "source": [
    "parameters = {'p':2, 'M_p': 1}\n",
    "\n",
    "print(\"n_s values\")\n",
    "print(\"Numpy:\", model.calculate_ns_np(initial_value_np_function(60), params=parameters), \"mpmath:\", model.calculate_ns_mp(initial_value_mp_function(60), params=parameters))\n",
    "print(\"Numpy:\", model.calculate_ns_np(initial_value_invariant_np_function(60), params=parameters), \"mpmath:\", model.calculate_ns_mp(initial_value_invariant_mp_function(60), params=parameters))\n",
    "\n",
    "print('r values')\n",
    "print(\"Numpy:\", model.calculate_r_np(initial_value_np_function(60), params=parameters), \"mpmath:\", model.calculate_r_mp(initial_value_mp_function(60), params=parameters))\n",
    "print(\"Numpy:\", model.calculate_r_np(initial_value_invariant_np_function(60), params=parameters), \"mpmath:\", model.calculate_r_mp(initial_value_invariant_mp_function(60), params=parameters))"
   ]
  }
 ],
 "metadata": {
  "interpreter": {
   "hash": "726da861d6979e270a7c3bba3df6b48d2f051a2431207b1427b050afc1f83a8f"
  },
  "kernelspec": {
   "display_name": "Python 3.9.7 ('inflationpy')",
   "language": "python",
   "name": "python3"
  },
  "language_info": {
   "codemirror_mode": {
    "name": "ipython",
    "version": 3
   },
   "file_extension": ".py",
   "mimetype": "text/x-python",
   "name": "python",
   "nbconvert_exporter": "python",
   "pygments_lexer": "ipython3",
   "version": "3.9.7"
  },
  "orig_nbformat": 4
 },
 "nbformat": 4,
 "nbformat_minor": 2
}
