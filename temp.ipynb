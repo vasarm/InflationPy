{
 "cells": [
  {
   "cell_type": "code",
   "execution_count": 6,
   "metadata": {},
   "outputs": [],
   "source": [
    "from inflationpy.core.functions import InflationFunction\n",
    "import sympy as sp\n",
    "import mpmath as mp"
   ]
  },
  {
   "cell_type": "code",
   "execution_count": 7,
   "metadata": {},
   "outputs": [],
   "source": [
    "phi = sp.Symbol(\"phi\")\n",
    "a, b, i = sp.symbols('a b I')"
   ]
  },
  {
   "cell_type": "code",
   "execution_count": 8,
   "metadata": {},
   "outputs": [],
   "source": [
    "function = InflationFunction(phi**2+2 + i + a/b)\n"
   ]
  },
  {
   "cell_type": "code",
   "execution_count": 11,
   "metadata": {},
   "outputs": [
    {
     "data": {
      "text/latex": [
       "$I + \\frac{a}{b} + \\phi^{2} + 2$"
      ],
      "text/plain": [
       "I + a/b + phi**2 + 2"
      ]
     },
     "execution_count": 11,
     "metadata": {},
     "output_type": "execute_result"
    }
   ],
   "source": [
    "function"
   ]
  }
 ],
 "metadata": {
  "interpreter": {
   "hash": "249bb49cbba29d8fc7626d41fe49e4af37b0fa4c88425dabc39d3158c316bf37"
  },
  "kernelspec": {
   "display_name": "Python 3.9.7 ('inflationpy')",
   "language": "python",
   "name": "python3"
  },
  "language_info": {
   "codemirror_mode": {
    "name": "ipython",
    "version": 3
   },
   "file_extension": ".py",
   "mimetype": "text/x-python",
   "name": "python",
   "nbconvert_exporter": "python",
   "pygments_lexer": "ipython3",
   "version": "3.9.7"
  },
  "orig_nbformat": 4
 },
 "nbformat": 4,
 "nbformat_minor": 2
}
